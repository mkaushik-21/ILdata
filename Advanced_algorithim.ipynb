{
  "nbformat": 4,
  "nbformat_minor": 0,
  "metadata": {
    "colab": {
      "name": "Advanced algorithim",
      "provenance": [],
      "authorship_tag": "ABX9TyMDHnn/322hxq2uYiyQ+Odg",
      "include_colab_link": true
    },
    "kernelspec": {
      "name": "python3",
      "display_name": "Python 3"
    }
  },
  "cells": [
    {
      "cell_type": "markdown",
      "metadata": {
        "id": "view-in-github",
        "colab_type": "text"
      },
      "source": [
        "<a href=\"https://colab.research.google.com/github/mkaushik-21/ILdata/blob/master/Advanced_algorithim.ipynb\" target=\"_parent\"><img src=\"https://colab.research.google.com/assets/colab-badge.svg\" alt=\"Open In Colab\"/></a>"
      ]
    },
    {
      "cell_type": "markdown",
      "metadata": {
        "id": "7LAHUdQgII4q",
        "colab_type": "text"
      },
      "source": [
        "Upload data and packages"
      ]
    },
    {
      "cell_type": "code",
      "metadata": {
        "id": "tH97yW7WUutU",
        "colab_type": "code",
        "colab": {
          "resources": {
            "http://localhost:8080/nbextensions/google.colab/files.js": {
              "data": "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",
              "ok": true,
              "headers": [
                [
                  "content-type",
                  "application/javascript"
                ]
              ],
              "status": 200,
              "status_text": ""
            }
          },
          "base_uri": "https://localhost:8080/",
          "height": 73
        },
        "outputId": "ab4f3c51-58ef-418f-c827-e49d866abe77"
      },
      "source": [
        "from google.colab import files\n",
        "uploaded = files.upload()"
      ],
      "execution_count": 1,
      "outputs": [
        {
          "output_type": "display_data",
          "data": {
            "text/html": [
              "\n",
              "     <input type=\"file\" id=\"files-53dc452c-6dae-4949-aaf4-f95828754ac3\" name=\"files[]\" multiple disabled\n",
              "        style=\"border:none\" />\n",
              "     <output id=\"result-53dc452c-6dae-4949-aaf4-f95828754ac3\">\n",
              "      Upload widget is only available when the cell has been executed in the\n",
              "      current browser session. Please rerun this cell to enable.\n",
              "      </output>\n",
              "      <script src=\"/nbextensions/google.colab/files.js\"></script> "
            ],
            "text/plain": [
              "<IPython.core.display.HTML object>"
            ]
          },
          "metadata": {
            "tags": []
          }
        },
        {
          "output_type": "stream",
          "text": [
            "Saving IL solubilities database .xlsx to IL solubilities database .xlsx\n"
          ],
          "name": "stdout"
        }
      ]
    },
    {
      "cell_type": "code",
      "metadata": {
        "id": "0rVWyld6VG4k",
        "colab_type": "code",
        "colab": {}
      },
      "source": [
        "import matplotlib.pyplot as plt\n",
        "import pandas as pd\n",
        "import pylab as pl\n",
        "import numpy as np\n",
        "%matplotlib inline\n",
        "from sklearn.datasets import make_regression\n",
        "from sklearn.linear_model import LinearRegression\n",
        "from matplotlib import pyplot"
      ],
      "execution_count": 33,
      "outputs": []
    },
    {
      "cell_type": "code",
      "metadata": {
        "id": "TgJVXP0XU9CO",
        "colab_type": "code",
        "colab": {
          "base_uri": "https://localhost:8080/",
          "height": 608
        },
        "outputId": "e1b44e58-c423-43c3-dae8-34ce485f3e7f"
      },
      "source": [
        "import io\n",
        "df= pd.read_excel(io.BytesIO(uploaded['IL solubilities database .xlsx']))\n",
        "df"
      ],
      "execution_count": 3,
      "outputs": [
        {
          "output_type": "execute_result",
          "data": {
            "text/html": [
              "<div>\n",
              "<style scoped>\n",
              "    .dataframe tbody tr th:only-of-type {\n",
              "        vertical-align: middle;\n",
              "    }\n",
              "\n",
              "    .dataframe tbody tr th {\n",
              "        vertical-align: top;\n",
              "    }\n",
              "\n",
              "    .dataframe thead th {\n",
              "        text-align: right;\n",
              "    }\n",
              "</style>\n",
              "<table border=\"1\" class=\"dataframe\">\n",
              "  <thead>\n",
              "    <tr style=\"text-align: right;\">\n",
              "      <th></th>\n",
              "      <th>IL</th>\n",
              "      <th>cation</th>\n",
              "      <th>anion</th>\n",
              "      <th>x_CO2</th>\n",
              "      <th>T (K)</th>\n",
              "      <th>P (bar)</th>\n",
              "      <th>[CH3]</th>\n",
              "      <th>[CH2]</th>\n",
              "      <th>[CH]</th>\n",
              "      <th>[OCH2]</th>\n",
              "      <th>[OCH3]</th>\n",
              "      <th>[CF2]</th>\n",
              "      <th>[CF3]</th>\n",
              "      <th>[OH]</th>\n",
              "      <th>CH=CH</th>\n",
              "      <th>CH=CH2</th>\n",
              "      <th>[Im13]</th>\n",
              "      <th>[MIm]</th>\n",
              "      <th>[MMIM]</th>\n",
              "      <th>[Py]</th>\n",
              "      <th>[MPy]</th>\n",
              "      <th>[MPyrro]</th>\n",
              "      <th>[MPip]</th>\n",
              "      <th>[NH3]</th>\n",
              "      <th>[NH2]</th>\n",
              "      <th>[NH]</th>\n",
              "      <th>[N]</th>\n",
              "      <th>[P]</th>\n",
              "      <th>[S]</th>\n",
              "      <th>[BF4]</th>\n",
              "      <th>[Cl]</th>\n",
              "      <th>[DCA]</th>\n",
              "      <th>[NO3]</th>\n",
              "      <th>[PF6]</th>\n",
              "      <th>[SCN]</th>\n",
              "      <th>[TCB]</th>\n",
              "      <th>[C(CN)3]</th>\n",
              "      <th>[HSO4]</th>\n",
              "      <th>[FSA]</th>\n",
              "      <th>[Tf2N]</th>\n",
              "      <th>[BETA]</th>\n",
              "      <th>[FOR]</th>\n",
              "      <th>[TFA]</th>\n",
              "      <th>[C3F7CO2]</th>\n",
              "      <th>[MeSO4]</th>\n",
              "      <th>[EtSO4]</th>\n",
              "      <th>[MDEGSO4]</th>\n",
              "      <th>[MeSO3]</th>\n",
              "      <th>[TfO]</th>\n",
              "      <th>[NfO]</th>\n",
              "      <th>[TDfO]</th>\n",
              "      <th>[TOS]</th>\n",
              "      <th>[C12PhSO3]</th>\n",
              "      <th>[DMPO4]</th>\n",
              "      <th>[DEPO4]</th>\n",
              "      <th>[DBPO4]</th>\n",
              "      <th>[methide]</th>\n",
              "    </tr>\n",
              "  </thead>\n",
              "  <tbody>\n",
              "    <tr>\n",
              "      <th>0</th>\n",
              "      <td>[BMIM][BF4]</td>\n",
              "      <td>[BMIM]</td>\n",
              "      <td>[BF4]</td>\n",
              "      <td>0.610</td>\n",
              "      <td>363.15</td>\n",
              "      <td>246.00</td>\n",
              "      <td>1</td>\n",
              "      <td>3</td>\n",
              "      <td>0</td>\n",
              "      <td>0</td>\n",
              "      <td>0</td>\n",
              "      <td>0</td>\n",
              "      <td>0</td>\n",
              "      <td>0</td>\n",
              "      <td>0</td>\n",
              "      <td>0</td>\n",
              "      <td>0</td>\n",
              "      <td>1</td>\n",
              "      <td>0</td>\n",
              "      <td>0</td>\n",
              "      <td>0</td>\n",
              "      <td>0</td>\n",
              "      <td>0</td>\n",
              "      <td>0</td>\n",
              "      <td>0</td>\n",
              "      <td>0</td>\n",
              "      <td>0</td>\n",
              "      <td>0</td>\n",
              "      <td>0</td>\n",
              "      <td>1</td>\n",
              "      <td>0</td>\n",
              "      <td>0</td>\n",
              "      <td>0</td>\n",
              "      <td>0</td>\n",
              "      <td>0</td>\n",
              "      <td>0</td>\n",
              "      <td>0</td>\n",
              "      <td>0</td>\n",
              "      <td>0</td>\n",
              "      <td>0</td>\n",
              "      <td>0</td>\n",
              "      <td>0</td>\n",
              "      <td>0</td>\n",
              "      <td>0</td>\n",
              "      <td>0</td>\n",
              "      <td>0</td>\n",
              "      <td>0</td>\n",
              "      <td>0</td>\n",
              "      <td>0</td>\n",
              "      <td>0</td>\n",
              "      <td>0</td>\n",
              "      <td>0</td>\n",
              "      <td>0</td>\n",
              "      <td>0</td>\n",
              "      <td>0</td>\n",
              "      <td>0</td>\n",
              "      <td>0</td>\n",
              "    </tr>\n",
              "    <tr>\n",
              "      <th>1</th>\n",
              "      <td>[BMIM][BF4]</td>\n",
              "      <td>[BMIM]</td>\n",
              "      <td>[BF4]</td>\n",
              "      <td>0.500</td>\n",
              "      <td>383.15</td>\n",
              "      <td>235.00</td>\n",
              "      <td>1</td>\n",
              "      <td>3</td>\n",
              "      <td>0</td>\n",
              "      <td>0</td>\n",
              "      <td>0</td>\n",
              "      <td>0</td>\n",
              "      <td>0</td>\n",
              "      <td>0</td>\n",
              "      <td>0</td>\n",
              "      <td>0</td>\n",
              "      <td>0</td>\n",
              "      <td>1</td>\n",
              "      <td>0</td>\n",
              "      <td>0</td>\n",
              "      <td>0</td>\n",
              "      <td>0</td>\n",
              "      <td>0</td>\n",
              "      <td>0</td>\n",
              "      <td>0</td>\n",
              "      <td>0</td>\n",
              "      <td>0</td>\n",
              "      <td>0</td>\n",
              "      <td>0</td>\n",
              "      <td>1</td>\n",
              "      <td>0</td>\n",
              "      <td>0</td>\n",
              "      <td>0</td>\n",
              "      <td>0</td>\n",
              "      <td>0</td>\n",
              "      <td>0</td>\n",
              "      <td>0</td>\n",
              "      <td>0</td>\n",
              "      <td>0</td>\n",
              "      <td>0</td>\n",
              "      <td>0</td>\n",
              "      <td>0</td>\n",
              "      <td>0</td>\n",
              "      <td>0</td>\n",
              "      <td>0</td>\n",
              "      <td>0</td>\n",
              "      <td>0</td>\n",
              "      <td>0</td>\n",
              "      <td>0</td>\n",
              "      <td>0</td>\n",
              "      <td>0</td>\n",
              "      <td>0</td>\n",
              "      <td>0</td>\n",
              "      <td>0</td>\n",
              "      <td>0</td>\n",
              "      <td>0</td>\n",
              "      <td>0</td>\n",
              "    </tr>\n",
              "    <tr>\n",
              "      <th>2</th>\n",
              "      <td>[BMIM][BF4]</td>\n",
              "      <td>[BMIM]</td>\n",
              "      <td>[BF4]</td>\n",
              "      <td>0.610</td>\n",
              "      <td>353.15</td>\n",
              "      <td>223.30</td>\n",
              "      <td>1</td>\n",
              "      <td>3</td>\n",
              "      <td>0</td>\n",
              "      <td>0</td>\n",
              "      <td>0</td>\n",
              "      <td>0</td>\n",
              "      <td>0</td>\n",
              "      <td>0</td>\n",
              "      <td>0</td>\n",
              "      <td>0</td>\n",
              "      <td>0</td>\n",
              "      <td>1</td>\n",
              "      <td>0</td>\n",
              "      <td>0</td>\n",
              "      <td>0</td>\n",
              "      <td>0</td>\n",
              "      <td>0</td>\n",
              "      <td>0</td>\n",
              "      <td>0</td>\n",
              "      <td>0</td>\n",
              "      <td>0</td>\n",
              "      <td>0</td>\n",
              "      <td>0</td>\n",
              "      <td>1</td>\n",
              "      <td>0</td>\n",
              "      <td>0</td>\n",
              "      <td>0</td>\n",
              "      <td>0</td>\n",
              "      <td>0</td>\n",
              "      <td>0</td>\n",
              "      <td>0</td>\n",
              "      <td>0</td>\n",
              "      <td>0</td>\n",
              "      <td>0</td>\n",
              "      <td>0</td>\n",
              "      <td>0</td>\n",
              "      <td>0</td>\n",
              "      <td>0</td>\n",
              "      <td>0</td>\n",
              "      <td>0</td>\n",
              "      <td>0</td>\n",
              "      <td>0</td>\n",
              "      <td>0</td>\n",
              "      <td>0</td>\n",
              "      <td>0</td>\n",
              "      <td>0</td>\n",
              "      <td>0</td>\n",
              "      <td>0</td>\n",
              "      <td>0</td>\n",
              "      <td>0</td>\n",
              "      <td>0</td>\n",
              "    </tr>\n",
              "    <tr>\n",
              "      <th>3</th>\n",
              "      <td>[BMIM][BF4]</td>\n",
              "      <td>[BMIM]</td>\n",
              "      <td>[BF4]</td>\n",
              "      <td>0.500</td>\n",
              "      <td>373.15</td>\n",
              "      <td>198.00</td>\n",
              "      <td>1</td>\n",
              "      <td>3</td>\n",
              "      <td>0</td>\n",
              "      <td>0</td>\n",
              "      <td>0</td>\n",
              "      <td>0</td>\n",
              "      <td>0</td>\n",
              "      <td>0</td>\n",
              "      <td>0</td>\n",
              "      <td>0</td>\n",
              "      <td>0</td>\n",
              "      <td>1</td>\n",
              "      <td>0</td>\n",
              "      <td>0</td>\n",
              "      <td>0</td>\n",
              "      <td>0</td>\n",
              "      <td>0</td>\n",
              "      <td>0</td>\n",
              "      <td>0</td>\n",
              "      <td>0</td>\n",
              "      <td>0</td>\n",
              "      <td>0</td>\n",
              "      <td>0</td>\n",
              "      <td>1</td>\n",
              "      <td>0</td>\n",
              "      <td>0</td>\n",
              "      <td>0</td>\n",
              "      <td>0</td>\n",
              "      <td>0</td>\n",
              "      <td>0</td>\n",
              "      <td>0</td>\n",
              "      <td>0</td>\n",
              "      <td>0</td>\n",
              "      <td>0</td>\n",
              "      <td>0</td>\n",
              "      <td>0</td>\n",
              "      <td>0</td>\n",
              "      <td>0</td>\n",
              "      <td>0</td>\n",
              "      <td>0</td>\n",
              "      <td>0</td>\n",
              "      <td>0</td>\n",
              "      <td>0</td>\n",
              "      <td>0</td>\n",
              "      <td>0</td>\n",
              "      <td>0</td>\n",
              "      <td>0</td>\n",
              "      <td>0</td>\n",
              "      <td>0</td>\n",
              "      <td>0</td>\n",
              "      <td>0</td>\n",
              "    </tr>\n",
              "    <tr>\n",
              "      <th>4</th>\n",
              "      <td>[BMIM][BF4]</td>\n",
              "      <td>[BMIM]</td>\n",
              "      <td>[BF4]</td>\n",
              "      <td>0.610</td>\n",
              "      <td>343.15</td>\n",
              "      <td>188.50</td>\n",
              "      <td>1</td>\n",
              "      <td>3</td>\n",
              "      <td>0</td>\n",
              "      <td>0</td>\n",
              "      <td>0</td>\n",
              "      <td>0</td>\n",
              "      <td>0</td>\n",
              "      <td>0</td>\n",
              "      <td>0</td>\n",
              "      <td>0</td>\n",
              "      <td>0</td>\n",
              "      <td>1</td>\n",
              "      <td>0</td>\n",
              "      <td>0</td>\n",
              "      <td>0</td>\n",
              "      <td>0</td>\n",
              "      <td>0</td>\n",
              "      <td>0</td>\n",
              "      <td>0</td>\n",
              "      <td>0</td>\n",
              "      <td>0</td>\n",
              "      <td>0</td>\n",
              "      <td>0</td>\n",
              "      <td>1</td>\n",
              "      <td>0</td>\n",
              "      <td>0</td>\n",
              "      <td>0</td>\n",
              "      <td>0</td>\n",
              "      <td>0</td>\n",
              "      <td>0</td>\n",
              "      <td>0</td>\n",
              "      <td>0</td>\n",
              "      <td>0</td>\n",
              "      <td>0</td>\n",
              "      <td>0</td>\n",
              "      <td>0</td>\n",
              "      <td>0</td>\n",
              "      <td>0</td>\n",
              "      <td>0</td>\n",
              "      <td>0</td>\n",
              "      <td>0</td>\n",
              "      <td>0</td>\n",
              "      <td>0</td>\n",
              "      <td>0</td>\n",
              "      <td>0</td>\n",
              "      <td>0</td>\n",
              "      <td>0</td>\n",
              "      <td>0</td>\n",
              "      <td>0</td>\n",
              "      <td>0</td>\n",
              "      <td>0</td>\n",
              "    </tr>\n",
              "    <tr>\n",
              "      <th>...</th>\n",
              "      <td>...</td>\n",
              "      <td>...</td>\n",
              "      <td>...</td>\n",
              "      <td>...</td>\n",
              "      <td>...</td>\n",
              "      <td>...</td>\n",
              "      <td>...</td>\n",
              "      <td>...</td>\n",
              "      <td>...</td>\n",
              "      <td>...</td>\n",
              "      <td>...</td>\n",
              "      <td>...</td>\n",
              "      <td>...</td>\n",
              "      <td>...</td>\n",
              "      <td>...</td>\n",
              "      <td>...</td>\n",
              "      <td>...</td>\n",
              "      <td>...</td>\n",
              "      <td>...</td>\n",
              "      <td>...</td>\n",
              "      <td>...</td>\n",
              "      <td>...</td>\n",
              "      <td>...</td>\n",
              "      <td>...</td>\n",
              "      <td>...</td>\n",
              "      <td>...</td>\n",
              "      <td>...</td>\n",
              "      <td>...</td>\n",
              "      <td>...</td>\n",
              "      <td>...</td>\n",
              "      <td>...</td>\n",
              "      <td>...</td>\n",
              "      <td>...</td>\n",
              "      <td>...</td>\n",
              "      <td>...</td>\n",
              "      <td>...</td>\n",
              "      <td>...</td>\n",
              "      <td>...</td>\n",
              "      <td>...</td>\n",
              "      <td>...</td>\n",
              "      <td>...</td>\n",
              "      <td>...</td>\n",
              "      <td>...</td>\n",
              "      <td>...</td>\n",
              "      <td>...</td>\n",
              "      <td>...</td>\n",
              "      <td>...</td>\n",
              "      <td>...</td>\n",
              "      <td>...</td>\n",
              "      <td>...</td>\n",
              "      <td>...</td>\n",
              "      <td>...</td>\n",
              "      <td>...</td>\n",
              "      <td>...</td>\n",
              "      <td>...</td>\n",
              "      <td>...</td>\n",
              "      <td>...</td>\n",
              "    </tr>\n",
              "    <tr>\n",
              "      <th>10111</th>\n",
              "      <td>[HMIM][Tf2N]</td>\n",
              "      <td>[HMIM]</td>\n",
              "      <td>[Tf2N]</td>\n",
              "      <td>0.592</td>\n",
              "      <td>298.15</td>\n",
              "      <td>35.86</td>\n",
              "      <td>1</td>\n",
              "      <td>5</td>\n",
              "      <td>0</td>\n",
              "      <td>0</td>\n",
              "      <td>0</td>\n",
              "      <td>0</td>\n",
              "      <td>0</td>\n",
              "      <td>0</td>\n",
              "      <td>0</td>\n",
              "      <td>0</td>\n",
              "      <td>0</td>\n",
              "      <td>1</td>\n",
              "      <td>0</td>\n",
              "      <td>0</td>\n",
              "      <td>0</td>\n",
              "      <td>0</td>\n",
              "      <td>0</td>\n",
              "      <td>0</td>\n",
              "      <td>0</td>\n",
              "      <td>0</td>\n",
              "      <td>0</td>\n",
              "      <td>0</td>\n",
              "      <td>0</td>\n",
              "      <td>0</td>\n",
              "      <td>0</td>\n",
              "      <td>0</td>\n",
              "      <td>0</td>\n",
              "      <td>0</td>\n",
              "      <td>0</td>\n",
              "      <td>0</td>\n",
              "      <td>0</td>\n",
              "      <td>0</td>\n",
              "      <td>0</td>\n",
              "      <td>1</td>\n",
              "      <td>0</td>\n",
              "      <td>0</td>\n",
              "      <td>0</td>\n",
              "      <td>0</td>\n",
              "      <td>0</td>\n",
              "      <td>0</td>\n",
              "      <td>0</td>\n",
              "      <td>0</td>\n",
              "      <td>0</td>\n",
              "      <td>0</td>\n",
              "      <td>0</td>\n",
              "      <td>0</td>\n",
              "      <td>0</td>\n",
              "      <td>0</td>\n",
              "      <td>0</td>\n",
              "      <td>0</td>\n",
              "      <td>0</td>\n",
              "    </tr>\n",
              "    <tr>\n",
              "      <th>10112</th>\n",
              "      <td>[HMIM][Tf2N]</td>\n",
              "      <td>[HMIM]</td>\n",
              "      <td>[Tf2N]</td>\n",
              "      <td>0.239</td>\n",
              "      <td>343.15</td>\n",
              "      <td>27.54</td>\n",
              "      <td>1</td>\n",
              "      <td>5</td>\n",
              "      <td>0</td>\n",
              "      <td>0</td>\n",
              "      <td>0</td>\n",
              "      <td>0</td>\n",
              "      <td>0</td>\n",
              "      <td>0</td>\n",
              "      <td>0</td>\n",
              "      <td>0</td>\n",
              "      <td>0</td>\n",
              "      <td>1</td>\n",
              "      <td>0</td>\n",
              "      <td>0</td>\n",
              "      <td>0</td>\n",
              "      <td>0</td>\n",
              "      <td>0</td>\n",
              "      <td>0</td>\n",
              "      <td>0</td>\n",
              "      <td>0</td>\n",
              "      <td>0</td>\n",
              "      <td>0</td>\n",
              "      <td>0</td>\n",
              "      <td>0</td>\n",
              "      <td>0</td>\n",
              "      <td>0</td>\n",
              "      <td>0</td>\n",
              "      <td>0</td>\n",
              "      <td>0</td>\n",
              "      <td>0</td>\n",
              "      <td>0</td>\n",
              "      <td>0</td>\n",
              "      <td>0</td>\n",
              "      <td>1</td>\n",
              "      <td>0</td>\n",
              "      <td>0</td>\n",
              "      <td>0</td>\n",
              "      <td>0</td>\n",
              "      <td>0</td>\n",
              "      <td>0</td>\n",
              "      <td>0</td>\n",
              "      <td>0</td>\n",
              "      <td>0</td>\n",
              "      <td>0</td>\n",
              "      <td>0</td>\n",
              "      <td>0</td>\n",
              "      <td>0</td>\n",
              "      <td>0</td>\n",
              "      <td>0</td>\n",
              "      <td>0</td>\n",
              "      <td>0</td>\n",
              "    </tr>\n",
              "    <tr>\n",
              "      <th>10113</th>\n",
              "      <td>[HMIM][Tf2N]</td>\n",
              "      <td>[HMIM]</td>\n",
              "      <td>[Tf2N]</td>\n",
              "      <td>0.396</td>\n",
              "      <td>298.15</td>\n",
              "      <td>20.15</td>\n",
              "      <td>1</td>\n",
              "      <td>5</td>\n",
              "      <td>0</td>\n",
              "      <td>0</td>\n",
              "      <td>0</td>\n",
              "      <td>0</td>\n",
              "      <td>0</td>\n",
              "      <td>0</td>\n",
              "      <td>0</td>\n",
              "      <td>0</td>\n",
              "      <td>0</td>\n",
              "      <td>1</td>\n",
              "      <td>0</td>\n",
              "      <td>0</td>\n",
              "      <td>0</td>\n",
              "      <td>0</td>\n",
              "      <td>0</td>\n",
              "      <td>0</td>\n",
              "      <td>0</td>\n",
              "      <td>0</td>\n",
              "      <td>0</td>\n",
              "      <td>0</td>\n",
              "      <td>0</td>\n",
              "      <td>0</td>\n",
              "      <td>0</td>\n",
              "      <td>0</td>\n",
              "      <td>0</td>\n",
              "      <td>0</td>\n",
              "      <td>0</td>\n",
              "      <td>0</td>\n",
              "      <td>0</td>\n",
              "      <td>0</td>\n",
              "      <td>0</td>\n",
              "      <td>1</td>\n",
              "      <td>0</td>\n",
              "      <td>0</td>\n",
              "      <td>0</td>\n",
              "      <td>0</td>\n",
              "      <td>0</td>\n",
              "      <td>0</td>\n",
              "      <td>0</td>\n",
              "      <td>0</td>\n",
              "      <td>0</td>\n",
              "      <td>0</td>\n",
              "      <td>0</td>\n",
              "      <td>0</td>\n",
              "      <td>0</td>\n",
              "      <td>0</td>\n",
              "      <td>0</td>\n",
              "      <td>0</td>\n",
              "      <td>0</td>\n",
              "    </tr>\n",
              "    <tr>\n",
              "      <th>10114</th>\n",
              "      <td>[HMIM][Tf2N]</td>\n",
              "      <td>[HMIM]</td>\n",
              "      <td>[Tf2N]</td>\n",
              "      <td>0.140</td>\n",
              "      <td>343.15</td>\n",
              "      <td>17.93</td>\n",
              "      <td>1</td>\n",
              "      <td>5</td>\n",
              "      <td>0</td>\n",
              "      <td>0</td>\n",
              "      <td>0</td>\n",
              "      <td>0</td>\n",
              "      <td>0</td>\n",
              "      <td>0</td>\n",
              "      <td>0</td>\n",
              "      <td>0</td>\n",
              "      <td>0</td>\n",
              "      <td>1</td>\n",
              "      <td>0</td>\n",
              "      <td>0</td>\n",
              "      <td>0</td>\n",
              "      <td>0</td>\n",
              "      <td>0</td>\n",
              "      <td>0</td>\n",
              "      <td>0</td>\n",
              "      <td>0</td>\n",
              "      <td>0</td>\n",
              "      <td>0</td>\n",
              "      <td>0</td>\n",
              "      <td>0</td>\n",
              "      <td>0</td>\n",
              "      <td>0</td>\n",
              "      <td>0</td>\n",
              "      <td>0</td>\n",
              "      <td>0</td>\n",
              "      <td>0</td>\n",
              "      <td>0</td>\n",
              "      <td>0</td>\n",
              "      <td>0</td>\n",
              "      <td>1</td>\n",
              "      <td>0</td>\n",
              "      <td>0</td>\n",
              "      <td>0</td>\n",
              "      <td>0</td>\n",
              "      <td>0</td>\n",
              "      <td>0</td>\n",
              "      <td>0</td>\n",
              "      <td>0</td>\n",
              "      <td>0</td>\n",
              "      <td>0</td>\n",
              "      <td>0</td>\n",
              "      <td>0</td>\n",
              "      <td>0</td>\n",
              "      <td>0</td>\n",
              "      <td>0</td>\n",
              "      <td>0</td>\n",
              "      <td>0</td>\n",
              "    </tr>\n",
              "    <tr>\n",
              "      <th>10115</th>\n",
              "      <td>[HMIM][Tf2N]</td>\n",
              "      <td>[HMIM]</td>\n",
              "      <td>[Tf2N]</td>\n",
              "      <td>0.139</td>\n",
              "      <td>323.15</td>\n",
              "      <td>8.00</td>\n",
              "      <td>1</td>\n",
              "      <td>5</td>\n",
              "      <td>0</td>\n",
              "      <td>0</td>\n",
              "      <td>0</td>\n",
              "      <td>0</td>\n",
              "      <td>0</td>\n",
              "      <td>0</td>\n",
              "      <td>0</td>\n",
              "      <td>0</td>\n",
              "      <td>0</td>\n",
              "      <td>1</td>\n",
              "      <td>0</td>\n",
              "      <td>0</td>\n",
              "      <td>0</td>\n",
              "      <td>0</td>\n",
              "      <td>0</td>\n",
              "      <td>0</td>\n",
              "      <td>0</td>\n",
              "      <td>0</td>\n",
              "      <td>0</td>\n",
              "      <td>0</td>\n",
              "      <td>0</td>\n",
              "      <td>0</td>\n",
              "      <td>0</td>\n",
              "      <td>0</td>\n",
              "      <td>0</td>\n",
              "      <td>0</td>\n",
              "      <td>0</td>\n",
              "      <td>0</td>\n",
              "      <td>0</td>\n",
              "      <td>0</td>\n",
              "      <td>0</td>\n",
              "      <td>1</td>\n",
              "      <td>0</td>\n",
              "      <td>0</td>\n",
              "      <td>0</td>\n",
              "      <td>0</td>\n",
              "      <td>0</td>\n",
              "      <td>0</td>\n",
              "      <td>0</td>\n",
              "      <td>0</td>\n",
              "      <td>0</td>\n",
              "      <td>0</td>\n",
              "      <td>0</td>\n",
              "      <td>0</td>\n",
              "      <td>0</td>\n",
              "      <td>0</td>\n",
              "      <td>0</td>\n",
              "      <td>0</td>\n",
              "      <td>0</td>\n",
              "    </tr>\n",
              "  </tbody>\n",
              "</table>\n",
              "<p>10116 rows × 57 columns</p>\n",
              "</div>"
            ],
            "text/plain": [
              "                 IL  cation   anion  ...  [DEPO4]  [DBPO4]  [methide]\n",
              "0       [BMIM][BF4]  [BMIM]   [BF4]  ...        0        0          0\n",
              "1       [BMIM][BF4]  [BMIM]   [BF4]  ...        0        0          0\n",
              "2       [BMIM][BF4]  [BMIM]   [BF4]  ...        0        0          0\n",
              "3       [BMIM][BF4]  [BMIM]   [BF4]  ...        0        0          0\n",
              "4       [BMIM][BF4]  [BMIM]   [BF4]  ...        0        0          0\n",
              "...             ...     ...     ...  ...      ...      ...        ...\n",
              "10111  [HMIM][Tf2N]  [HMIM]  [Tf2N]  ...        0        0          0\n",
              "10112  [HMIM][Tf2N]  [HMIM]  [Tf2N]  ...        0        0          0\n",
              "10113  [HMIM][Tf2N]  [HMIM]  [Tf2N]  ...        0        0          0\n",
              "10114  [HMIM][Tf2N]  [HMIM]  [Tf2N]  ...        0        0          0\n",
              "10115  [HMIM][Tf2N]  [HMIM]  [Tf2N]  ...        0        0          0\n",
              "\n",
              "[10116 rows x 57 columns]"
            ]
          },
          "metadata": {
            "tags": []
          },
          "execution_count": 3
        }
      ]
    },
    {
      "cell_type": "code",
      "metadata": {
        "id": "af3O3pYTWJ0I",
        "colab_type": "code",
        "colab": {
          "base_uri": "https://localhost:8080/",
          "height": 167
        },
        "outputId": "51e2b441-779a-4a9d-c326-820a084031e3"
      },
      "source": [
        "df.columns"
      ],
      "execution_count": 4,
      "outputs": [
        {
          "output_type": "execute_result",
          "data": {
            "text/plain": [
              "Index(['IL', 'cation', 'anion', 'x_CO2', 'T (K)', 'P (bar)', '[CH3]', '[CH2]',\n",
              "       '[CH]', '[OCH2]', '[OCH3]', '[CF2]', '[CF3]', '[OH]', 'CH=CH', 'CH=CH2',\n",
              "       '[Im13]', '[MIm]', '[MMIM]', '[Py]', '[MPy]', '[MPyrro]', '[MPip]',\n",
              "       '[NH3]', '[NH2]', '[NH]', '[N]', '[P]', '[S]', '[BF4]', '[Cl]', '[DCA]',\n",
              "       '[NO3]', '[PF6]', '[SCN]', '[TCB]', '[C(CN)3]', '[HSO4]', '[FSA]',\n",
              "       '[Tf2N]', '[BETA]', '[FOR]', '[TFA]', '[C3F7CO2]', '[MeSO4]', '[EtSO4]',\n",
              "       '[MDEGSO4]', '[MeSO3]', '[TfO]', '[NfO]', '[TDfO]', '[TOS]',\n",
              "       '[C12PhSO3]', '[DMPO4]', '[DEPO4]', '[DBPO4]', '[methide]'],\n",
              "      dtype='object')"
            ]
          },
          "metadata": {
            "tags": []
          },
          "execution_count": 4
        }
      ]
    },
    {
      "cell_type": "markdown",
      "metadata": {
        "id": "d-OuE6U2IN9x",
        "colab_type": "text"
      },
      "source": [
        "Rename group contributions as G1, G2... Gn"
      ]
    },
    {
      "cell_type": "code",
      "metadata": {
        "id": "wersBbJmWLhX",
        "colab_type": "code",
        "colab": {}
      },
      "source": [
        "pdf = df.rename(columns={'[CH3]': 'G1', '[CH2]': 'G2', '[CH]': 'G3', '[OCH2]': 'G4', '[OCH3]': 'G5','[CF2]': 'G6', '[CF3]': 'G7', '[OH]': 'G8', 'CH=CH': 'G9', 'CH=CH2': 'G10',\n",
        "       '[Im13]': 'G11', '[MIm]': 'G12', '[MMIM]': 'G13', '[Py]': 'G14', '[MPy]': 'G15', '[MPyrro]': 'G16', '[MPip]': 'G17',\n",
        "       '[NH3]': 'G18', '[NH2]': 'G19', '[NH]': 'G20', '[N]': 'G21', '[P]': 'G22', '[S]': 'G23', '[BF4]': 'G24', '[Cl]': 'G25', '[DCA]': 'G26',\n",
        "       '[NO3]': 'G27', '[PF6]': 'G28', '[SCN]': 'G29', '[TCB]': 'G30', '[C(CN)3]': 'G31', '[HSO4]': 'G32', '[FSA]': 'G33',\n",
        "       '[Tf2N]': 'G34', '[BETA]': 'G35', '[FOR]': 'G36', '[TFA]': 'G37', '[C3F7CO2]': 'G38', '[MeSO4]': 'G39', '[EtSO4]': 'G40',\n",
        "       '[MDEGSO4]': 'G41', '[MeSO3]': 'G42', '[TfO]': 'G43', '[NfO]': 'G44', '[TDfO]': 'G45', '[TOS]': 'G46',\n",
        "       '[C12PhSO3]': 'G47', '[DMPO4]': 'G48', '[DEPO4]': 'G49', '[DBPO4]': 'G50', '[methide]': 'G51' })"
      ],
      "execution_count": 5,
      "outputs": []
    },
    {
      "cell_type": "code",
      "metadata": {
        "id": "__m7P-ZKWaZ9",
        "colab_type": "code",
        "colab": {
          "base_uri": "https://localhost:8080/",
          "height": 251
        },
        "outputId": "1deafc8a-fabe-414d-99ba-22851ecb618d"
      },
      "source": [
        "pdf.head"
      ],
      "execution_count": 6,
      "outputs": [
        {
          "output_type": "execute_result",
          "data": {
            "text/plain": [
              "<bound method NDFrame.head of                  IL  cation   anion  x_CO2   T (K)  ...  G47  G48  G49  G50  G51\n",
              "0       [BMIM][BF4]  [BMIM]   [BF4]  0.610  363.15  ...    0    0    0    0    0\n",
              "1       [BMIM][BF4]  [BMIM]   [BF4]  0.500  383.15  ...    0    0    0    0    0\n",
              "2       [BMIM][BF4]  [BMIM]   [BF4]  0.610  353.15  ...    0    0    0    0    0\n",
              "3       [BMIM][BF4]  [BMIM]   [BF4]  0.500  373.15  ...    0    0    0    0    0\n",
              "4       [BMIM][BF4]  [BMIM]   [BF4]  0.610  343.15  ...    0    0    0    0    0\n",
              "...             ...     ...     ...    ...     ...  ...  ...  ...  ...  ...  ...\n",
              "10111  [HMIM][Tf2N]  [HMIM]  [Tf2N]  0.592  298.15  ...    0    0    0    0    0\n",
              "10112  [HMIM][Tf2N]  [HMIM]  [Tf2N]  0.239  343.15  ...    0    0    0    0    0\n",
              "10113  [HMIM][Tf2N]  [HMIM]  [Tf2N]  0.396  298.15  ...    0    0    0    0    0\n",
              "10114  [HMIM][Tf2N]  [HMIM]  [Tf2N]  0.140  343.15  ...    0    0    0    0    0\n",
              "10115  [HMIM][Tf2N]  [HMIM]  [Tf2N]  0.139  323.15  ...    0    0    0    0    0\n",
              "\n",
              "[10116 rows x 57 columns]>"
            ]
          },
          "metadata": {
            "tags": []
          },
          "execution_count": 6
        }
      ]
    },
    {
      "cell_type": "markdown",
      "metadata": {
        "id": "Xk647hMf5Vrx",
        "colab_type": "text"
      },
      "source": [
        "Attempt at neural network"
      ]
    },
    {
      "cell_type": "code",
      "metadata": {
        "id": "BpNPiexSXllV",
        "colab_type": "code",
        "colab": {}
      },
      "source": [
        "from numpy import loadtxt\n",
        "from keras.models import Sequential\n",
        "from keras.layers import Dense"
      ],
      "execution_count": 7,
      "outputs": []
    },
    {
      "cell_type": "markdown",
      "metadata": {
        "id": "b_UMPUuLIS8m",
        "colab_type": "text"
      },
      "source": [
        "Separate data into X and y (input and output)"
      ]
    },
    {
      "cell_type": "code",
      "metadata": {
        "id": "e32CXeL6Y5fk",
        "colab_type": "code",
        "colab": {
          "base_uri": "https://localhost:8080/",
          "height": 33
        },
        "outputId": "8c16df10-e906-40d9-80b1-d4f06e8a2676"
      },
      "source": [
        "pdf.shape"
      ],
      "execution_count": 8,
      "outputs": [
        {
          "output_type": "execute_result",
          "data": {
            "text/plain": [
              "(10116, 57)"
            ]
          },
          "metadata": {
            "tags": []
          },
          "execution_count": 8
        }
      ]
    },
    {
      "cell_type": "code",
      "metadata": {
        "id": "Y70SThw3YGJ9",
        "colab_type": "code",
        "colab": {}
      },
      "source": [
        "X= pdf[['T (K)', 'P (bar)', 'G1', 'G2', 'G3',\n",
        "       'G4', 'G5', 'G6', 'G7', 'G8', 'G9', 'G10', 'G11', 'G12', 'G13', 'G14',\n",
        "       'G15', 'G16', 'G17', 'G18', 'G19', 'G20', 'G21', 'G22', 'G23', 'G24',\n",
        "       'G25', 'G26', 'G27', 'G28', 'G29', 'G30', 'G31', 'G32', 'G33', 'G34',\n",
        "       'G35', 'G36', 'G37', 'G38', 'G39', 'G40', 'G41', 'G42', 'G43', 'G44',\n",
        "       'G45', 'G46', 'G47', 'G48', 'G49', 'G50', 'G51']]"
      ],
      "execution_count": 9,
      "outputs": []
    },
    {
      "cell_type": "code",
      "metadata": {
        "id": "8y7NUaCiYejQ",
        "colab_type": "code",
        "colab": {}
      },
      "source": [
        "y=df[['x_CO2']]"
      ],
      "execution_count": 10,
      "outputs": []
    },
    {
      "cell_type": "code",
      "metadata": {
        "id": "H8wBv872ZLdh",
        "colab_type": "code",
        "colab": {
          "base_uri": "https://localhost:8080/",
          "height": 84
        },
        "outputId": "e3826465-0c1f-4828-d126-c5a0bb624ace"
      },
      "source": [
        "import numpy as np\n",
        "import warnings\n",
        "warnings.filterwarnings(\"ignore\") #suppress warnings\n",
        "import matplotlib.pyplot as plt\n",
        "from sklearn.model_selection import train_test_split\n",
        "from sklearn.preprocessing import StandardScaler\n",
        "\n",
        "y_label = pdf['x_CO2'].values.reshape(X.shape[0], 1)\n",
        "\n",
        "#split data into train and test set\n",
        "Xtrain, Xtest, ytrain, ytest = train_test_split(X, y_label, test_size=0.2, random_state=2)\n",
        "\n",
        "#standardize the dataset\n",
        "sc = StandardScaler()\n",
        "sc.fit(Xtrain)\n",
        "Xtrain = sc.transform(Xtrain)\n",
        "Xtest = sc.transform(Xtest)\n",
        "\n",
        "print(f\"Shape of train x is {Xtrain.shape}\")\n",
        "print(f\"Shape of test x is {Xtest.shape}\")\n",
        "print(f\"Shape of train y is {ytrain.shape}\")\n",
        "print(f\"Shape of test y is {ytest.shape}\")"
      ],
      "execution_count": 11,
      "outputs": [
        {
          "output_type": "stream",
          "text": [
            "Shape of train x is (8092, 53)\n",
            "Shape of test x is (2024, 53)\n",
            "Shape of train y is (8092, 1)\n",
            "Shape of test y is (2024, 1)\n"
          ],
          "name": "stdout"
        }
      ]
    },
    {
      "cell_type": "code",
      "metadata": {
        "id": "icB1a5w9akw8",
        "colab_type": "code",
        "colab": {}
      },
      "source": [
        "import pandas\n",
        "from keras.models import Sequential\n",
        "from keras.layers import Dense\n",
        "from keras.wrappers.scikit_learn import KerasRegressor\n",
        "from sklearn.model_selection import cross_val_score\n",
        "from sklearn.model_selection import KFold\n",
        "from sklearn.preprocessing import StandardScaler\n",
        "from sklearn.pipeline import Pipeline\n",
        "from sklearn.metrics import r2_score"
      ],
      "execution_count": 12,
      "outputs": []
    },
    {
      "cell_type": "code",
      "metadata": {
        "id": "sZ5fTGGjctCd",
        "colab_type": "code",
        "colab": {
          "base_uri": "https://localhost:8080/",
          "height": 33
        },
        "outputId": "518cc15d-9d98-4bd7-eaa3-efe51baef525"
      },
      "source": [
        "# define wider model\n",
        "def wider_model():\n",
        "\t# create model\n",
        "\tmodel = Sequential()\n",
        "\tmodel.add(Dense(100, input_dim=53, kernel_initializer='normal', activation='relu'))\n",
        "\tmodel.add(Dense(1, kernel_initializer='normal'))\n",
        "\t# Compile model\n",
        "\tmodel.compile(loss='mean_squared_error', optimizer='adam')\n",
        "\treturn model\n",
        "# evaluate model with standardized dataset\n",
        "estimators = []\n",
        "estimators.append(('standardize', StandardScaler()))\n",
        "estimators.append(('mlp', KerasRegressor(build_fn=wider_model, epochs=100, batch_size=5, verbose=0)))\n",
        "pipeline = Pipeline(estimators)\n",
        "kfold = KFold(n_splits=10)\n",
        "results = cross_val_score(pipeline, X, y, cv=kfold)\n",
        "print(\"Wider: %.2f (%.2f) MSE\" % (results.mean(), results.std()))"
      ],
      "execution_count": null,
      "outputs": [
        {
          "output_type": "stream",
          "text": [
            "Wider: -0.01 (0.01) MSE\n"
          ],
          "name": "stdout"
        }
      ]
    },
    {
      "cell_type": "code",
      "metadata": {
        "id": "qdx2YADxsHk7",
        "colab_type": "code",
        "colab": {
          "base_uri": "https://localhost:8080/",
          "height": 128
        },
        "outputId": "c06aa302-cca5-4625-eee8-d11b4dbe93eb"
      },
      "source": [
        "# define wider model\n",
        "def wider_model():\n",
        "\t# create model\n",
        "\tmodel = Sequential()\n",
        "\tmodel.add(Dense(1000, input_dim=53, kernel_initializer='normal', activation='relu'))\n",
        "\tmodel.add(Dense(1, kernel_initializer='normal'))\n",
        "\t# Compile model\n",
        "\tmodel.compile(loss='mean_squared_error', optimizer='adam')\n",
        "\treturn model\n",
        "# evaluate model with standardized dataset\n",
        "estimators = []\n",
        "estimators.append(('standardize', StandardScaler()))\n",
        "estimators.append(('mlp', KerasRegressor(build_fn=wider_model, epochs=150, batch_size=5, verbose=0)))\n",
        "pipeline = Pipeline(estimators)\n",
        "kfold = KFold(n_splits=10)\n",
        "results = cross_val_score(pipeline, X, y, cv=kfold)\n",
        "R2-score= \n",
        "print(\"Wider: %.2f (%.2f) MSE\" % (results.mean(), results.std()))"
      ],
      "execution_count": null,
      "outputs": [
        {
          "output_type": "error",
          "ename": "SyntaxError",
          "evalue": "ignored",
          "traceback": [
            "\u001b[0;36m  File \u001b[0;32m\"<ipython-input-36-855c02c7d19b>\"\u001b[0;36m, line \u001b[0;32m17\u001b[0m\n\u001b[0;31m    R2-score= metrics.r2_score\u001b[0m\n\u001b[0m                              ^\u001b[0m\n\u001b[0;31mSyntaxError\u001b[0m\u001b[0;31m:\u001b[0m can't assign to operator\n"
          ]
        }
      ]
    },
    {
      "cell_type": "code",
      "metadata": {
        "id": "lKWbamBs0XOI",
        "colab_type": "code",
        "colab": {}
      },
      "source": [
        "import keras.models"
      ],
      "execution_count": null,
      "outputs": []
    },
    {
      "cell_type": "code",
      "metadata": {
        "id": "wjhBIisL0DOq",
        "colab_type": "code",
        "colab": {}
      },
      "source": [
        "from keras.models import Sequential\n",
        "from keras.layers.core import Dense"
      ],
      "execution_count": null,
      "outputs": []
    },
    {
      "cell_type": "markdown",
      "metadata": {
        "id": "tZlVuZaRIYVU",
        "colab_type": "text"
      },
      "source": [
        "Create neural network. Second line is input and 1st hidden layer, Third line is second hidden layer, last line is output layer"
      ]
    },
    {
      "cell_type": "code",
      "metadata": {
        "id": "qngkL40p02C_",
        "colab_type": "code",
        "colab": {}
      },
      "source": [
        "model = Sequential()\n",
        "model.add(Dense(100, input_dim=53, activation='relu'))\n",
        "model.add(Dense(50, activation='relu'))\n",
        "model.add(Dense(1, activation='sigmoid'))"
      ],
      "execution_count": null,
      "outputs": []
    },
    {
      "cell_type": "markdown",
      "metadata": {
        "id": "mBDmAlJaIivc",
        "colab_type": "text"
      },
      "source": [
        "This changes the different 'view' of neural network"
      ]
    },
    {
      "cell_type": "code",
      "metadata": {
        "id": "RMVgNC4-1Acr",
        "colab_type": "code",
        "colab": {}
      },
      "source": [
        "model.compile(loss='binary_crossentropy', optimizer='adam', metrics=['accuracy'])"
      ],
      "execution_count": null,
      "outputs": []
    },
    {
      "cell_type": "markdown",
      "metadata": {
        "id": "_55ksGz9Im_E",
        "colab_type": "text"
      },
      "source": [
        "Fit data to the model"
      ]
    },
    {
      "cell_type": "code",
      "metadata": {
        "id": "AYLFv77u1KYu",
        "colab_type": "code",
        "colab": {
          "base_uri": "https://localhost:8080/",
          "height": 1000
        },
        "outputId": "45d9399e-0c55-476b-f95a-fe76605c41d9"
      },
      "source": [
        "model.fit(X, y, epochs=150, batch_size=10)"
      ],
      "execution_count": null,
      "outputs": [
        {
          "output_type": "stream",
          "text": [
            "Epoch 1/150\n",
            "1012/1012 [==============================] - 1s 1ms/step - loss: 0.6490 - accuracy: 0.0000e+00\n",
            "Epoch 2/150\n",
            "1012/1012 [==============================] - 1s 1ms/step - loss: 0.5561 - accuracy: 0.0000e+00\n",
            "Epoch 3/150\n",
            "1012/1012 [==============================] - 1s 1ms/step - loss: 0.5442 - accuracy: 0.0000e+00\n",
            "Epoch 4/150\n",
            "1012/1012 [==============================] - 1s 1ms/step - loss: 0.5356 - accuracy: 0.0000e+00\n",
            "Epoch 5/150\n",
            "1012/1012 [==============================] - 1s 1ms/step - loss: 0.5278 - accuracy: 0.0000e+00\n",
            "Epoch 6/150\n",
            "1012/1012 [==============================] - 1s 1ms/step - loss: 0.5279 - accuracy: 0.0000e+00\n",
            "Epoch 7/150\n",
            "1012/1012 [==============================] - 1s 1ms/step - loss: 0.5254 - accuracy: 0.0000e+00\n",
            "Epoch 8/150\n",
            "1012/1012 [==============================] - 1s 1ms/step - loss: 0.5207 - accuracy: 0.0000e+00\n",
            "Epoch 9/150\n",
            "1012/1012 [==============================] - 1s 1ms/step - loss: 0.5195 - accuracy: 0.0000e+00\n",
            "Epoch 10/150\n",
            "1012/1012 [==============================] - 1s 1ms/step - loss: 0.5175 - accuracy: 0.0000e+00\n",
            "Epoch 11/150\n",
            "1012/1012 [==============================] - 1s 1ms/step - loss: 0.5173 - accuracy: 0.0000e+00\n",
            "Epoch 12/150\n",
            "1012/1012 [==============================] - 1s 1ms/step - loss: 0.5146 - accuracy: 0.0000e+00\n",
            "Epoch 13/150\n",
            "1012/1012 [==============================] - 1s 1ms/step - loss: 0.5127 - accuracy: 0.0000e+00\n",
            "Epoch 14/150\n",
            "1012/1012 [==============================] - 1s 1ms/step - loss: 0.5128 - accuracy: 0.0000e+00\n",
            "Epoch 15/150\n",
            "1012/1012 [==============================] - 1s 1ms/step - loss: 0.5118 - accuracy: 0.0000e+00\n",
            "Epoch 16/150\n",
            "1012/1012 [==============================] - 1s 1ms/step - loss: 0.5106 - accuracy: 0.0000e+00\n",
            "Epoch 17/150\n",
            "1012/1012 [==============================] - 1s 1ms/step - loss: 0.5108 - accuracy: 0.0000e+00\n",
            "Epoch 18/150\n",
            "1012/1012 [==============================] - 1s 1ms/step - loss: 0.5087 - accuracy: 0.0000e+00\n",
            "Epoch 19/150\n",
            "1012/1012 [==============================] - 1s 1ms/step - loss: 0.5087 - accuracy: 0.0000e+00\n",
            "Epoch 20/150\n",
            "1012/1012 [==============================] - 1s 1ms/step - loss: 0.5078 - accuracy: 0.0000e+00\n",
            "Epoch 21/150\n",
            "1012/1012 [==============================] - 1s 1ms/step - loss: 0.5071 - accuracy: 0.0000e+00\n",
            "Epoch 22/150\n",
            "1012/1012 [==============================] - 1s 1ms/step - loss: 0.5066 - accuracy: 0.0000e+00\n",
            "Epoch 23/150\n",
            "1012/1012 [==============================] - 1s 1ms/step - loss: 0.5068 - accuracy: 0.0000e+00\n",
            "Epoch 24/150\n",
            "1012/1012 [==============================] - 1s 1ms/step - loss: 0.5068 - accuracy: 0.0000e+00\n",
            "Epoch 25/150\n",
            "1012/1012 [==============================] - 1s 1ms/step - loss: 0.5062 - accuracy: 0.0000e+00\n",
            "Epoch 26/150\n",
            "1012/1012 [==============================] - 1s 1ms/step - loss: 0.5056 - accuracy: 0.0000e+00\n",
            "Epoch 27/150\n",
            "1012/1012 [==============================] - 1s 1ms/step - loss: 0.5056 - accuracy: 0.0000e+00\n",
            "Epoch 28/150\n",
            "1012/1012 [==============================] - 1s 1ms/step - loss: 0.5055 - accuracy: 0.0000e+00\n",
            "Epoch 29/150\n",
            "1012/1012 [==============================] - 1s 1ms/step - loss: 0.5051 - accuracy: 0.0000e+00\n",
            "Epoch 30/150\n",
            "1012/1012 [==============================] - 1s 1ms/step - loss: 0.5049 - accuracy: 0.0000e+00\n",
            "Epoch 31/150\n",
            "1012/1012 [==============================] - 1s 1ms/step - loss: 0.5048 - accuracy: 0.0000e+00\n",
            "Epoch 32/150\n",
            "1012/1012 [==============================] - 1s 1ms/step - loss: 0.5045 - accuracy: 0.0000e+00\n",
            "Epoch 33/150\n",
            "1012/1012 [==============================] - 1s 1ms/step - loss: 0.5046 - accuracy: 0.0000e+00\n",
            "Epoch 34/150\n",
            "1012/1012 [==============================] - 1s 1ms/step - loss: 0.5046 - accuracy: 0.0000e+00\n",
            "Epoch 35/150\n",
            "1012/1012 [==============================] - 1s 1ms/step - loss: 0.5043 - accuracy: 0.0000e+00\n",
            "Epoch 36/150\n",
            "1012/1012 [==============================] - 1s 1ms/step - loss: 0.5044 - accuracy: 0.0000e+00\n",
            "Epoch 37/150\n",
            "1012/1012 [==============================] - 1s 1ms/step - loss: 0.5042 - accuracy: 0.0000e+00\n",
            "Epoch 38/150\n",
            "1012/1012 [==============================] - 1s 1ms/step - loss: 0.5039 - accuracy: 0.0000e+00\n",
            "Epoch 39/150\n",
            "1012/1012 [==============================] - 1s 1ms/step - loss: 0.5039 - accuracy: 0.0000e+00\n",
            "Epoch 40/150\n",
            "1012/1012 [==============================] - 1s 1ms/step - loss: 0.5038 - accuracy: 0.0000e+00\n",
            "Epoch 41/150\n",
            "1012/1012 [==============================] - 1s 1ms/step - loss: 0.5037 - accuracy: 0.0000e+00\n",
            "Epoch 42/150\n",
            "1012/1012 [==============================] - 1s 1ms/step - loss: 0.5038 - accuracy: 0.0000e+00\n",
            "Epoch 43/150\n",
            "1012/1012 [==============================] - 1s 1ms/step - loss: 0.5037 - accuracy: 0.0000e+00\n",
            "Epoch 44/150\n",
            "1012/1012 [==============================] - 1s 1ms/step - loss: 0.5038 - accuracy: 0.0000e+00\n",
            "Epoch 45/150\n",
            "1012/1012 [==============================] - 1s 1ms/step - loss: 0.5034 - accuracy: 0.0000e+00\n",
            "Epoch 46/150\n",
            "1012/1012 [==============================] - 1s 1ms/step - loss: 0.5034 - accuracy: 0.0000e+00\n",
            "Epoch 47/150\n",
            "1012/1012 [==============================] - 1s 1ms/step - loss: 0.5035 - accuracy: 0.0000e+00\n",
            "Epoch 48/150\n",
            "1012/1012 [==============================] - 1s 1ms/step - loss: 0.5034 - accuracy: 0.0000e+00\n",
            "Epoch 49/150\n",
            "1012/1012 [==============================] - 1s 1ms/step - loss: 0.5034 - accuracy: 0.0000e+00\n",
            "Epoch 50/150\n",
            "1012/1012 [==============================] - 1s 1ms/step - loss: 0.5033 - accuracy: 0.0000e+00\n",
            "Epoch 51/150\n",
            "1012/1012 [==============================] - 1s 1ms/step - loss: 0.5032 - accuracy: 0.0000e+00\n",
            "Epoch 52/150\n",
            "1012/1012 [==============================] - 1s 1ms/step - loss: 0.5032 - accuracy: 0.0000e+00\n",
            "Epoch 53/150\n",
            "1012/1012 [==============================] - 1s 1ms/step - loss: 0.5032 - accuracy: 0.0000e+00\n",
            "Epoch 54/150\n",
            "1012/1012 [==============================] - 1s 1ms/step - loss: 0.5032 - accuracy: 0.0000e+00\n",
            "Epoch 55/150\n",
            "1012/1012 [==============================] - 1s 1ms/step - loss: 0.5031 - accuracy: 0.0000e+00\n",
            "Epoch 56/150\n",
            "1012/1012 [==============================] - 1s 1ms/step - loss: 0.5031 - accuracy: 0.0000e+00\n",
            "Epoch 57/150\n",
            "1012/1012 [==============================] - 1s 1ms/step - loss: 0.5031 - accuracy: 0.0000e+00\n",
            "Epoch 58/150\n",
            "1012/1012 [==============================] - 1s 1ms/step - loss: 0.5030 - accuracy: 0.0000e+00\n",
            "Epoch 59/150\n",
            "1012/1012 [==============================] - 1s 1ms/step - loss: 0.5030 - accuracy: 0.0000e+00\n",
            "Epoch 60/150\n",
            "1012/1012 [==============================] - 1s 1ms/step - loss: 0.5031 - accuracy: 0.0000e+00\n",
            "Epoch 61/150\n",
            "1012/1012 [==============================] - 1s 1ms/step - loss: 0.5029 - accuracy: 0.0000e+00\n",
            "Epoch 62/150\n",
            "1012/1012 [==============================] - 1s 1ms/step - loss: 0.5030 - accuracy: 0.0000e+00\n",
            "Epoch 63/150\n",
            "1012/1012 [==============================] - 1s 1ms/step - loss: 0.5029 - accuracy: 0.0000e+00\n",
            "Epoch 64/150\n",
            "1012/1012 [==============================] - 1s 1ms/step - loss: 0.5029 - accuracy: 0.0000e+00\n",
            "Epoch 65/150\n",
            "1012/1012 [==============================] - 1s 1ms/step - loss: 0.5029 - accuracy: 0.0000e+00\n",
            "Epoch 66/150\n",
            "1012/1012 [==============================] - 1s 1ms/step - loss: 0.5028 - accuracy: 0.0000e+00\n",
            "Epoch 67/150\n",
            "1012/1012 [==============================] - 1s 1ms/step - loss: 0.5029 - accuracy: 0.0000e+00\n",
            "Epoch 68/150\n",
            "1012/1012 [==============================] - 1s 1ms/step - loss: 0.5028 - accuracy: 0.0000e+00\n",
            "Epoch 69/150\n",
            "1012/1012 [==============================] - 1s 1ms/step - loss: 0.5028 - accuracy: 0.0000e+00\n",
            "Epoch 70/150\n",
            "1012/1012 [==============================] - 1s 1ms/step - loss: 0.5027 - accuracy: 0.0000e+00\n",
            "Epoch 71/150\n",
            "1012/1012 [==============================] - 1s 1ms/step - loss: 0.5026 - accuracy: 0.0000e+00\n",
            "Epoch 72/150\n",
            "1012/1012 [==============================] - 1s 1ms/step - loss: 0.5027 - accuracy: 0.0000e+00\n",
            "Epoch 73/150\n",
            "1012/1012 [==============================] - 1s 1ms/step - loss: 0.5027 - accuracy: 0.0000e+00\n",
            "Epoch 74/150\n",
            "1012/1012 [==============================] - 1s 1ms/step - loss: 0.5027 - accuracy: 0.0000e+00\n",
            "Epoch 75/150\n",
            "1012/1012 [==============================] - 1s 1ms/step - loss: 0.5028 - accuracy: 0.0000e+00\n",
            "Epoch 76/150\n",
            "1012/1012 [==============================] - 1s 1ms/step - loss: 0.5027 - accuracy: 0.0000e+00\n",
            "Epoch 77/150\n",
            "1012/1012 [==============================] - 1s 1ms/step - loss: 0.5027 - accuracy: 0.0000e+00\n",
            "Epoch 78/150\n",
            "1012/1012 [==============================] - 1s 1ms/step - loss: 0.5026 - accuracy: 0.0000e+00\n",
            "Epoch 79/150\n",
            "1012/1012 [==============================] - 1s 1ms/step - loss: 0.5026 - accuracy: 0.0000e+00\n",
            "Epoch 80/150\n",
            "1012/1012 [==============================] - 1s 1ms/step - loss: 0.5026 - accuracy: 0.0000e+00\n",
            "Epoch 81/150\n",
            "1012/1012 [==============================] - 1s 1ms/step - loss: 0.5026 - accuracy: 0.0000e+00\n",
            "Epoch 82/150\n",
            "1012/1012 [==============================] - 1s 1ms/step - loss: 0.5025 - accuracy: 0.0000e+00\n",
            "Epoch 83/150\n",
            "1012/1012 [==============================] - 1s 1ms/step - loss: 0.5026 - accuracy: 0.0000e+00\n",
            "Epoch 84/150\n",
            "1012/1012 [==============================] - 1s 1ms/step - loss: 0.5026 - accuracy: 0.0000e+00\n",
            "Epoch 85/150\n",
            "1012/1012 [==============================] - 1s 1ms/step - loss: 0.5026 - accuracy: 0.0000e+00\n",
            "Epoch 86/150\n",
            "1012/1012 [==============================] - 1s 1ms/step - loss: 0.5025 - accuracy: 0.0000e+00\n",
            "Epoch 87/150\n",
            "1012/1012 [==============================] - 1s 1ms/step - loss: 0.5025 - accuracy: 0.0000e+00\n",
            "Epoch 88/150\n",
            "1012/1012 [==============================] - 1s 1ms/step - loss: 0.5026 - accuracy: 0.0000e+00\n",
            "Epoch 89/150\n",
            "1012/1012 [==============================] - 1s 1ms/step - loss: 0.5025 - accuracy: 0.0000e+00\n",
            "Epoch 90/150\n",
            "1012/1012 [==============================] - 1s 1ms/step - loss: 0.5026 - accuracy: 0.0000e+00\n",
            "Epoch 91/150\n",
            "1012/1012 [==============================] - 1s 1ms/step - loss: 0.5025 - accuracy: 0.0000e+00\n",
            "Epoch 92/150\n",
            "1012/1012 [==============================] - 1s 1ms/step - loss: 0.5025 - accuracy: 0.0000e+00\n",
            "Epoch 93/150\n",
            "1012/1012 [==============================] - 1s 1ms/step - loss: 0.5025 - accuracy: 0.0000e+00\n",
            "Epoch 94/150\n",
            "1012/1012 [==============================] - 1s 1ms/step - loss: 0.5025 - accuracy: 0.0000e+00\n",
            "Epoch 95/150\n",
            "1012/1012 [==============================] - 1s 1ms/step - loss: 0.5025 - accuracy: 0.0000e+00\n",
            "Epoch 96/150\n",
            "1012/1012 [==============================] - 1s 1ms/step - loss: 0.5024 - accuracy: 0.0000e+00\n",
            "Epoch 97/150\n",
            "1012/1012 [==============================] - 1s 1ms/step - loss: 0.5025 - accuracy: 0.0000e+00\n",
            "Epoch 98/150\n",
            "1012/1012 [==============================] - 1s 1ms/step - loss: 0.5024 - accuracy: 0.0000e+00\n",
            "Epoch 99/150\n",
            "1012/1012 [==============================] - 1s 1ms/step - loss: 0.5024 - accuracy: 0.0000e+00\n",
            "Epoch 100/150\n",
            "1012/1012 [==============================] - 1s 1ms/step - loss: 0.5024 - accuracy: 0.0000e+00\n",
            "Epoch 101/150\n",
            "1012/1012 [==============================] - 1s 1ms/step - loss: 0.5024 - accuracy: 0.0000e+00\n",
            "Epoch 102/150\n",
            "1012/1012 [==============================] - 1s 1ms/step - loss: 0.5024 - accuracy: 0.0000e+00\n",
            "Epoch 103/150\n",
            "1012/1012 [==============================] - 1s 1ms/step - loss: 0.5024 - accuracy: 0.0000e+00\n",
            "Epoch 104/150\n",
            "1012/1012 [==============================] - 1s 1ms/step - loss: 0.5024 - accuracy: 0.0000e+00\n",
            "Epoch 105/150\n",
            "1012/1012 [==============================] - 1s 1ms/step - loss: 0.5023 - accuracy: 0.0000e+00\n",
            "Epoch 106/150\n",
            "1012/1012 [==============================] - 1s 1ms/step - loss: 0.5024 - accuracy: 0.0000e+00\n",
            "Epoch 107/150\n",
            "1012/1012 [==============================] - 1s 1ms/step - loss: 0.5024 - accuracy: 0.0000e+00\n",
            "Epoch 108/150\n",
            "1012/1012 [==============================] - 1s 1ms/step - loss: 0.5024 - accuracy: 0.0000e+00\n",
            "Epoch 109/150\n",
            "1012/1012 [==============================] - 1s 1ms/step - loss: 0.5023 - accuracy: 0.0000e+00\n",
            "Epoch 110/150\n",
            "1012/1012 [==============================] - 1s 1ms/step - loss: 0.5024 - accuracy: 0.0000e+00\n",
            "Epoch 111/150\n",
            "1012/1012 [==============================] - 1s 1ms/step - loss: 0.5023 - accuracy: 0.0000e+00\n",
            "Epoch 112/150\n",
            "1012/1012 [==============================] - 1s 1ms/step - loss: 0.5022 - accuracy: 0.0000e+00\n",
            "Epoch 113/150\n",
            "1012/1012 [==============================] - 1s 1ms/step - loss: 0.5022 - accuracy: 0.0000e+00\n",
            "Epoch 114/150\n",
            "1012/1012 [==============================] - 1s 1ms/step - loss: 0.5023 - accuracy: 0.0000e+00\n",
            "Epoch 115/150\n",
            "1012/1012 [==============================] - 1s 1ms/step - loss: 0.5023 - accuracy: 0.0000e+00\n",
            "Epoch 116/150\n",
            "1012/1012 [==============================] - 1s 1ms/step - loss: 0.5023 - accuracy: 0.0000e+00\n",
            "Epoch 117/150\n",
            "1012/1012 [==============================] - 1s 1ms/step - loss: 0.5023 - accuracy: 0.0000e+00\n",
            "Epoch 118/150\n",
            "1012/1012 [==============================] - 1s 1ms/step - loss: 0.5022 - accuracy: 0.0000e+00\n",
            "Epoch 119/150\n",
            "1012/1012 [==============================] - 1s 1ms/step - loss: 0.5023 - accuracy: 0.0000e+00\n",
            "Epoch 120/150\n",
            "1012/1012 [==============================] - 1s 1ms/step - loss: 0.5023 - accuracy: 0.0000e+00\n",
            "Epoch 121/150\n",
            "1012/1012 [==============================] - 1s 1ms/step - loss: 0.5022 - accuracy: 0.0000e+00\n",
            "Epoch 122/150\n",
            "1012/1012 [==============================] - 1s 1ms/step - loss: 0.5022 - accuracy: 0.0000e+00\n",
            "Epoch 123/150\n",
            "1012/1012 [==============================] - 1s 1ms/step - loss: 0.5022 - accuracy: 0.0000e+00\n",
            "Epoch 124/150\n",
            "1012/1012 [==============================] - 1s 1ms/step - loss: 0.5022 - accuracy: 0.0000e+00\n",
            "Epoch 125/150\n",
            "1012/1012 [==============================] - 1s 1ms/step - loss: 0.5024 - accuracy: 0.0000e+00\n",
            "Epoch 126/150\n",
            "1012/1012 [==============================] - 1s 1ms/step - loss: 0.5022 - accuracy: 0.0000e+00\n",
            "Epoch 127/150\n",
            "1012/1012 [==============================] - 1s 1ms/step - loss: 0.5022 - accuracy: 0.0000e+00\n",
            "Epoch 128/150\n",
            "1012/1012 [==============================] - 1s 1ms/step - loss: 0.5022 - accuracy: 0.0000e+00\n",
            "Epoch 129/150\n",
            "1012/1012 [==============================] - 1s 1ms/step - loss: 0.5022 - accuracy: 0.0000e+00\n",
            "Epoch 130/150\n",
            "1012/1012 [==============================] - 1s 1ms/step - loss: 0.5021 - accuracy: 0.0000e+00\n",
            "Epoch 131/150\n",
            "1012/1012 [==============================] - 1s 1ms/step - loss: 0.5022 - accuracy: 0.0000e+00\n",
            "Epoch 132/150\n",
            "1012/1012 [==============================] - 1s 1ms/step - loss: 0.5023 - accuracy: 0.0000e+00\n",
            "Epoch 133/150\n",
            "1012/1012 [==============================] - 1s 1ms/step - loss: 0.5021 - accuracy: 0.0000e+00\n",
            "Epoch 134/150\n",
            "1012/1012 [==============================] - 1s 1ms/step - loss: 0.5022 - accuracy: 0.0000e+00\n",
            "Epoch 135/150\n",
            "1012/1012 [==============================] - 1s 1ms/step - loss: 0.5022 - accuracy: 0.0000e+00\n",
            "Epoch 136/150\n",
            "1012/1012 [==============================] - 1s 1ms/step - loss: 0.5021 - accuracy: 0.0000e+00\n",
            "Epoch 137/150\n",
            "1012/1012 [==============================] - 1s 1ms/step - loss: 0.5021 - accuracy: 0.0000e+00\n",
            "Epoch 138/150\n",
            "1012/1012 [==============================] - 1s 1ms/step - loss: 0.5021 - accuracy: 0.0000e+00\n",
            "Epoch 139/150\n",
            "1012/1012 [==============================] - 1s 1ms/step - loss: 0.5022 - accuracy: 0.0000e+00\n",
            "Epoch 140/150\n",
            "1012/1012 [==============================] - 1s 1ms/step - loss: 0.5021 - accuracy: 0.0000e+00\n",
            "Epoch 141/150\n",
            "1012/1012 [==============================] - 1s 1ms/step - loss: 0.5022 - accuracy: 0.0000e+00\n",
            "Epoch 142/150\n",
            "1012/1012 [==============================] - 1s 1ms/step - loss: 0.5021 - accuracy: 0.0000e+00\n",
            "Epoch 143/150\n",
            "1012/1012 [==============================] - 1s 1ms/step - loss: 0.5021 - accuracy: 0.0000e+00\n",
            "Epoch 144/150\n",
            "1012/1012 [==============================] - 1s 1ms/step - loss: 0.5021 - accuracy: 0.0000e+00\n",
            "Epoch 145/150\n",
            "1012/1012 [==============================] - 1s 1ms/step - loss: 0.5022 - accuracy: 0.0000e+00\n",
            "Epoch 146/150\n",
            "1012/1012 [==============================] - 1s 1ms/step - loss: 0.5021 - accuracy: 0.0000e+00\n",
            "Epoch 147/150\n",
            "1012/1012 [==============================] - 1s 1ms/step - loss: 0.5021 - accuracy: 0.0000e+00\n",
            "Epoch 148/150\n",
            "1012/1012 [==============================] - 1s 1ms/step - loss: 0.5021 - accuracy: 0.0000e+00\n",
            "Epoch 149/150\n",
            "1012/1012 [==============================] - 1s 1ms/step - loss: 0.5020 - accuracy: 0.0000e+00\n",
            "Epoch 150/150\n",
            "1012/1012 [==============================] - 1s 1ms/step - loss: 0.5021 - accuracy: 0.0000e+00\n"
          ],
          "name": "stdout"
        },
        {
          "output_type": "execute_result",
          "data": {
            "text/plain": [
              "<tensorflow.python.keras.callbacks.History at 0x7f6915c08dd8>"
            ]
          },
          "metadata": {
            "tags": []
          },
          "execution_count": 14
        }
      ]
    },
    {
      "cell_type": "markdown",
      "metadata": {
        "id": "5Da2X6o5Iphq",
        "colab_type": "text"
      },
      "source": [
        "Use evaluation metrics, issue= accuracy is 0, something has gone wrong in neural network"
      ]
    },
    {
      "cell_type": "code",
      "metadata": {
        "id": "yjpwQWzl2N1r",
        "colab_type": "code",
        "colab": {
          "base_uri": "https://localhost:8080/",
          "height": 50
        },
        "outputId": "308b3d7d-c2c8-48de-a7f1-dfe1c3eddb07"
      },
      "source": [
        "_, accuracy = model.evaluate(X, y)\n",
        "print('Accuracy: %.2f' % (accuracy*100))"
      ],
      "execution_count": null,
      "outputs": [
        {
          "output_type": "stream",
          "text": [
            "317/317 [==============================] - 0s 954us/step - loss: 13.0115 - accuracy: 0.0000e+00\n",
            "Accuracy: 0.00\n"
          ],
          "name": "stdout"
        }
      ]
    },
    {
      "cell_type": "markdown",
      "metadata": {
        "id": "H9FIEeYVJWqA",
        "colab_type": "text"
      },
      "source": [
        "This code is supposed to predict the next five cases, error occuring"
      ]
    },
    {
      "cell_type": "code",
      "metadata": {
        "id": "0lYWCohl38BL",
        "colab_type": "code",
        "colab": {
          "base_uri": "https://localhost:8080/",
          "height": 757
        },
        "outputId": "32b18aae-049d-4294-c1e4-e99765e02a4d"
      },
      "source": [
        "predictions = model.predict_classes(X)\n",
        "# summarize the first 5 cases\n",
        "for i in range(5):\n",
        "\tprint('%s => %d (expected %d)' % (X[i].tolist(), predictions[i], y[i]))"
      ],
      "execution_count": null,
      "outputs": [
        {
          "output_type": "stream",
          "text": [
            "WARNING:tensorflow:From <ipython-input-17-f40f6bd03fbf>:1: Sequential.predict_classes (from tensorflow.python.keras.engine.sequential) is deprecated and will be removed after 2021-01-01.\n",
            "Instructions for updating:\n",
            "Please use instead:* `np.argmax(model.predict(x), axis=-1)`,   if your model does multi-class classification   (e.g. if it uses a `softmax` last-layer activation).* `(model.predict(x) > 0.5).astype(\"int32\")`,   if your model does binary classification   (e.g. if it uses a `sigmoid` last-layer activation).\n"
          ],
          "name": "stdout"
        },
        {
          "output_type": "error",
          "ename": "KeyError",
          "evalue": "ignored",
          "traceback": [
            "\u001b[0;31m---------------------------------------------------------------------------\u001b[0m",
            "\u001b[0;31mKeyError\u001b[0m                                  Traceback (most recent call last)",
            "\u001b[0;32m/usr/local/lib/python3.6/dist-packages/pandas/core/indexes/base.py\u001b[0m in \u001b[0;36mget_loc\u001b[0;34m(self, key, method, tolerance)\u001b[0m\n\u001b[1;32m   2645\u001b[0m             \u001b[0;32mtry\u001b[0m\u001b[0;34m:\u001b[0m\u001b[0;34m\u001b[0m\u001b[0;34m\u001b[0m\u001b[0m\n\u001b[0;32m-> 2646\u001b[0;31m                 \u001b[0;32mreturn\u001b[0m \u001b[0mself\u001b[0m\u001b[0;34m.\u001b[0m\u001b[0m_engine\u001b[0m\u001b[0;34m.\u001b[0m\u001b[0mget_loc\u001b[0m\u001b[0;34m(\u001b[0m\u001b[0mkey\u001b[0m\u001b[0;34m)\u001b[0m\u001b[0;34m\u001b[0m\u001b[0;34m\u001b[0m\u001b[0m\n\u001b[0m\u001b[1;32m   2647\u001b[0m             \u001b[0;32mexcept\u001b[0m \u001b[0mKeyError\u001b[0m\u001b[0;34m:\u001b[0m\u001b[0;34m\u001b[0m\u001b[0;34m\u001b[0m\u001b[0m\n",
            "\u001b[0;32mpandas/_libs/index.pyx\u001b[0m in \u001b[0;36mpandas._libs.index.IndexEngine.get_loc\u001b[0;34m()\u001b[0m\n",
            "\u001b[0;32mpandas/_libs/index.pyx\u001b[0m in \u001b[0;36mpandas._libs.index.IndexEngine.get_loc\u001b[0;34m()\u001b[0m\n",
            "\u001b[0;32mpandas/_libs/hashtable_class_helper.pxi\u001b[0m in \u001b[0;36mpandas._libs.hashtable.PyObjectHashTable.get_item\u001b[0;34m()\u001b[0m\n",
            "\u001b[0;32mpandas/_libs/hashtable_class_helper.pxi\u001b[0m in \u001b[0;36mpandas._libs.hashtable.PyObjectHashTable.get_item\u001b[0;34m()\u001b[0m\n",
            "\u001b[0;31mKeyError\u001b[0m: 0",
            "\nDuring handling of the above exception, another exception occurred:\n",
            "\u001b[0;31mKeyError\u001b[0m                                  Traceback (most recent call last)",
            "\u001b[0;32m<ipython-input-17-f40f6bd03fbf>\u001b[0m in \u001b[0;36m<module>\u001b[0;34m()\u001b[0m\n\u001b[1;32m      2\u001b[0m \u001b[0;31m# summarize the first 5 cases\u001b[0m\u001b[0;34m\u001b[0m\u001b[0;34m\u001b[0m\u001b[0;34m\u001b[0m\u001b[0m\n\u001b[1;32m      3\u001b[0m \u001b[0;32mfor\u001b[0m \u001b[0mi\u001b[0m \u001b[0;32min\u001b[0m \u001b[0mrange\u001b[0m\u001b[0;34m(\u001b[0m\u001b[0;36m5\u001b[0m\u001b[0;34m)\u001b[0m\u001b[0;34m:\u001b[0m\u001b[0;34m\u001b[0m\u001b[0;34m\u001b[0m\u001b[0m\n\u001b[0;32m----> 4\u001b[0;31m         \u001b[0mprint\u001b[0m\u001b[0;34m(\u001b[0m\u001b[0;34m'%s => %d (expected %d)'\u001b[0m \u001b[0;34m%\u001b[0m \u001b[0;34m(\u001b[0m\u001b[0mX\u001b[0m\u001b[0;34m[\u001b[0m\u001b[0mi\u001b[0m\u001b[0;34m]\u001b[0m\u001b[0;34m.\u001b[0m\u001b[0mtolist\u001b[0m\u001b[0;34m(\u001b[0m\u001b[0;34m)\u001b[0m\u001b[0;34m,\u001b[0m \u001b[0mpredictions\u001b[0m\u001b[0;34m[\u001b[0m\u001b[0mi\u001b[0m\u001b[0;34m]\u001b[0m\u001b[0;34m,\u001b[0m \u001b[0my\u001b[0m\u001b[0;34m[\u001b[0m\u001b[0mi\u001b[0m\u001b[0;34m]\u001b[0m\u001b[0;34m)\u001b[0m\u001b[0;34m)\u001b[0m\u001b[0;34m\u001b[0m\u001b[0;34m\u001b[0m\u001b[0m\n\u001b[0m",
            "\u001b[0;32m/usr/local/lib/python3.6/dist-packages/pandas/core/frame.py\u001b[0m in \u001b[0;36m__getitem__\u001b[0;34m(self, key)\u001b[0m\n\u001b[1;32m   2798\u001b[0m             \u001b[0;32mif\u001b[0m \u001b[0mself\u001b[0m\u001b[0;34m.\u001b[0m\u001b[0mcolumns\u001b[0m\u001b[0;34m.\u001b[0m\u001b[0mnlevels\u001b[0m \u001b[0;34m>\u001b[0m \u001b[0;36m1\u001b[0m\u001b[0;34m:\u001b[0m\u001b[0;34m\u001b[0m\u001b[0;34m\u001b[0m\u001b[0m\n\u001b[1;32m   2799\u001b[0m                 \u001b[0;32mreturn\u001b[0m \u001b[0mself\u001b[0m\u001b[0;34m.\u001b[0m\u001b[0m_getitem_multilevel\u001b[0m\u001b[0;34m(\u001b[0m\u001b[0mkey\u001b[0m\u001b[0;34m)\u001b[0m\u001b[0;34m\u001b[0m\u001b[0;34m\u001b[0m\u001b[0m\n\u001b[0;32m-> 2800\u001b[0;31m             \u001b[0mindexer\u001b[0m \u001b[0;34m=\u001b[0m \u001b[0mself\u001b[0m\u001b[0;34m.\u001b[0m\u001b[0mcolumns\u001b[0m\u001b[0;34m.\u001b[0m\u001b[0mget_loc\u001b[0m\u001b[0;34m(\u001b[0m\u001b[0mkey\u001b[0m\u001b[0;34m)\u001b[0m\u001b[0;34m\u001b[0m\u001b[0;34m\u001b[0m\u001b[0m\n\u001b[0m\u001b[1;32m   2801\u001b[0m             \u001b[0;32mif\u001b[0m \u001b[0mis_integer\u001b[0m\u001b[0;34m(\u001b[0m\u001b[0mindexer\u001b[0m\u001b[0;34m)\u001b[0m\u001b[0;34m:\u001b[0m\u001b[0;34m\u001b[0m\u001b[0;34m\u001b[0m\u001b[0m\n\u001b[1;32m   2802\u001b[0m                 \u001b[0mindexer\u001b[0m \u001b[0;34m=\u001b[0m \u001b[0;34m[\u001b[0m\u001b[0mindexer\u001b[0m\u001b[0;34m]\u001b[0m\u001b[0;34m\u001b[0m\u001b[0;34m\u001b[0m\u001b[0m\n",
            "\u001b[0;32m/usr/local/lib/python3.6/dist-packages/pandas/core/indexes/base.py\u001b[0m in \u001b[0;36mget_loc\u001b[0;34m(self, key, method, tolerance)\u001b[0m\n\u001b[1;32m   2646\u001b[0m                 \u001b[0;32mreturn\u001b[0m \u001b[0mself\u001b[0m\u001b[0;34m.\u001b[0m\u001b[0m_engine\u001b[0m\u001b[0;34m.\u001b[0m\u001b[0mget_loc\u001b[0m\u001b[0;34m(\u001b[0m\u001b[0mkey\u001b[0m\u001b[0;34m)\u001b[0m\u001b[0;34m\u001b[0m\u001b[0;34m\u001b[0m\u001b[0m\n\u001b[1;32m   2647\u001b[0m             \u001b[0;32mexcept\u001b[0m \u001b[0mKeyError\u001b[0m\u001b[0;34m:\u001b[0m\u001b[0;34m\u001b[0m\u001b[0;34m\u001b[0m\u001b[0m\n\u001b[0;32m-> 2648\u001b[0;31m                 \u001b[0;32mreturn\u001b[0m \u001b[0mself\u001b[0m\u001b[0;34m.\u001b[0m\u001b[0m_engine\u001b[0m\u001b[0;34m.\u001b[0m\u001b[0mget_loc\u001b[0m\u001b[0;34m(\u001b[0m\u001b[0mself\u001b[0m\u001b[0;34m.\u001b[0m\u001b[0m_maybe_cast_indexer\u001b[0m\u001b[0;34m(\u001b[0m\u001b[0mkey\u001b[0m\u001b[0;34m)\u001b[0m\u001b[0;34m)\u001b[0m\u001b[0;34m\u001b[0m\u001b[0;34m\u001b[0m\u001b[0m\n\u001b[0m\u001b[1;32m   2649\u001b[0m         \u001b[0mindexer\u001b[0m \u001b[0;34m=\u001b[0m \u001b[0mself\u001b[0m\u001b[0;34m.\u001b[0m\u001b[0mget_indexer\u001b[0m\u001b[0;34m(\u001b[0m\u001b[0;34m[\u001b[0m\u001b[0mkey\u001b[0m\u001b[0;34m]\u001b[0m\u001b[0;34m,\u001b[0m \u001b[0mmethod\u001b[0m\u001b[0;34m=\u001b[0m\u001b[0mmethod\u001b[0m\u001b[0;34m,\u001b[0m \u001b[0mtolerance\u001b[0m\u001b[0;34m=\u001b[0m\u001b[0mtolerance\u001b[0m\u001b[0;34m)\u001b[0m\u001b[0;34m\u001b[0m\u001b[0;34m\u001b[0m\u001b[0m\n\u001b[1;32m   2650\u001b[0m         \u001b[0;32mif\u001b[0m \u001b[0mindexer\u001b[0m\u001b[0;34m.\u001b[0m\u001b[0mndim\u001b[0m \u001b[0;34m>\u001b[0m \u001b[0;36m1\u001b[0m \u001b[0;32mor\u001b[0m \u001b[0mindexer\u001b[0m\u001b[0;34m.\u001b[0m\u001b[0msize\u001b[0m \u001b[0;34m>\u001b[0m \u001b[0;36m1\u001b[0m\u001b[0;34m:\u001b[0m\u001b[0;34m\u001b[0m\u001b[0;34m\u001b[0m\u001b[0m\n",
            "\u001b[0;32mpandas/_libs/index.pyx\u001b[0m in \u001b[0;36mpandas._libs.index.IndexEngine.get_loc\u001b[0;34m()\u001b[0m\n",
            "\u001b[0;32mpandas/_libs/index.pyx\u001b[0m in \u001b[0;36mpandas._libs.index.IndexEngine.get_loc\u001b[0;34m()\u001b[0m\n",
            "\u001b[0;32mpandas/_libs/hashtable_class_helper.pxi\u001b[0m in \u001b[0;36mpandas._libs.hashtable.PyObjectHashTable.get_item\u001b[0;34m()\u001b[0m\n",
            "\u001b[0;32mpandas/_libs/hashtable_class_helper.pxi\u001b[0m in \u001b[0;36mpandas._libs.hashtable.PyObjectHashTable.get_item\u001b[0;34m()\u001b[0m\n",
            "\u001b[0;31mKeyError\u001b[0m: 0"
          ]
        }
      ]
    },
    {
      "cell_type": "markdown",
      "metadata": {
        "id": "2Ju3ud-D5YsB",
        "colab_type": "text"
      },
      "source": [
        "Attempt at random forest"
      ]
    },
    {
      "cell_type": "code",
      "metadata": {
        "id": "0P2_7m_Z5a3U",
        "colab_type": "code",
        "colab": {}
      },
      "source": [
        "import pandas as pd\n",
        "import numpy as np"
      ],
      "execution_count": 13,
      "outputs": []
    },
    {
      "cell_type": "code",
      "metadata": {
        "id": "Dgu5SoUJ5hbX",
        "colab_type": "code",
        "colab": {
          "base_uri": "https://localhost:8080/",
          "height": 441
        },
        "outputId": "11fc485a-f67e-414e-ca5c-8e362ea346ac"
      },
      "source": [
        "X"
      ],
      "execution_count": 14,
      "outputs": [
        {
          "output_type": "execute_result",
          "data": {
            "text/html": [
              "<div>\n",
              "<style scoped>\n",
              "    .dataframe tbody tr th:only-of-type {\n",
              "        vertical-align: middle;\n",
              "    }\n",
              "\n",
              "    .dataframe tbody tr th {\n",
              "        vertical-align: top;\n",
              "    }\n",
              "\n",
              "    .dataframe thead th {\n",
              "        text-align: right;\n",
              "    }\n",
              "</style>\n",
              "<table border=\"1\" class=\"dataframe\">\n",
              "  <thead>\n",
              "    <tr style=\"text-align: right;\">\n",
              "      <th></th>\n",
              "      <th>T (K)</th>\n",
              "      <th>P (bar)</th>\n",
              "      <th>G1</th>\n",
              "      <th>G2</th>\n",
              "      <th>G3</th>\n",
              "      <th>G4</th>\n",
              "      <th>G5</th>\n",
              "      <th>G6</th>\n",
              "      <th>G7</th>\n",
              "      <th>G8</th>\n",
              "      <th>G9</th>\n",
              "      <th>G10</th>\n",
              "      <th>G11</th>\n",
              "      <th>G12</th>\n",
              "      <th>G13</th>\n",
              "      <th>G14</th>\n",
              "      <th>G15</th>\n",
              "      <th>G16</th>\n",
              "      <th>G17</th>\n",
              "      <th>G18</th>\n",
              "      <th>G19</th>\n",
              "      <th>G20</th>\n",
              "      <th>G21</th>\n",
              "      <th>G22</th>\n",
              "      <th>G23</th>\n",
              "      <th>G24</th>\n",
              "      <th>G25</th>\n",
              "      <th>G26</th>\n",
              "      <th>G27</th>\n",
              "      <th>G28</th>\n",
              "      <th>G29</th>\n",
              "      <th>G30</th>\n",
              "      <th>G31</th>\n",
              "      <th>G32</th>\n",
              "      <th>G33</th>\n",
              "      <th>G34</th>\n",
              "      <th>G35</th>\n",
              "      <th>G36</th>\n",
              "      <th>G37</th>\n",
              "      <th>G38</th>\n",
              "      <th>G39</th>\n",
              "      <th>G40</th>\n",
              "      <th>G41</th>\n",
              "      <th>G42</th>\n",
              "      <th>G43</th>\n",
              "      <th>G44</th>\n",
              "      <th>G45</th>\n",
              "      <th>G46</th>\n",
              "      <th>G47</th>\n",
              "      <th>G48</th>\n",
              "      <th>G49</th>\n",
              "      <th>G50</th>\n",
              "      <th>G51</th>\n",
              "    </tr>\n",
              "  </thead>\n",
              "  <tbody>\n",
              "    <tr>\n",
              "      <th>0</th>\n",
              "      <td>363.15</td>\n",
              "      <td>246.00</td>\n",
              "      <td>1</td>\n",
              "      <td>3</td>\n",
              "      <td>0</td>\n",
              "      <td>0</td>\n",
              "      <td>0</td>\n",
              "      <td>0</td>\n",
              "      <td>0</td>\n",
              "      <td>0</td>\n",
              "      <td>0</td>\n",
              "      <td>0</td>\n",
              "      <td>0</td>\n",
              "      <td>1</td>\n",
              "      <td>0</td>\n",
              "      <td>0</td>\n",
              "      <td>0</td>\n",
              "      <td>0</td>\n",
              "      <td>0</td>\n",
              "      <td>0</td>\n",
              "      <td>0</td>\n",
              "      <td>0</td>\n",
              "      <td>0</td>\n",
              "      <td>0</td>\n",
              "      <td>0</td>\n",
              "      <td>1</td>\n",
              "      <td>0</td>\n",
              "      <td>0</td>\n",
              "      <td>0</td>\n",
              "      <td>0</td>\n",
              "      <td>0</td>\n",
              "      <td>0</td>\n",
              "      <td>0</td>\n",
              "      <td>0</td>\n",
              "      <td>0</td>\n",
              "      <td>0</td>\n",
              "      <td>0</td>\n",
              "      <td>0</td>\n",
              "      <td>0</td>\n",
              "      <td>0</td>\n",
              "      <td>0</td>\n",
              "      <td>0</td>\n",
              "      <td>0</td>\n",
              "      <td>0</td>\n",
              "      <td>0</td>\n",
              "      <td>0</td>\n",
              "      <td>0</td>\n",
              "      <td>0</td>\n",
              "      <td>0</td>\n",
              "      <td>0</td>\n",
              "      <td>0</td>\n",
              "      <td>0</td>\n",
              "      <td>0</td>\n",
              "    </tr>\n",
              "    <tr>\n",
              "      <th>1</th>\n",
              "      <td>383.15</td>\n",
              "      <td>235.00</td>\n",
              "      <td>1</td>\n",
              "      <td>3</td>\n",
              "      <td>0</td>\n",
              "      <td>0</td>\n",
              "      <td>0</td>\n",
              "      <td>0</td>\n",
              "      <td>0</td>\n",
              "      <td>0</td>\n",
              "      <td>0</td>\n",
              "      <td>0</td>\n",
              "      <td>0</td>\n",
              "      <td>1</td>\n",
              "      <td>0</td>\n",
              "      <td>0</td>\n",
              "      <td>0</td>\n",
              "      <td>0</td>\n",
              "      <td>0</td>\n",
              "      <td>0</td>\n",
              "      <td>0</td>\n",
              "      <td>0</td>\n",
              "      <td>0</td>\n",
              "      <td>0</td>\n",
              "      <td>0</td>\n",
              "      <td>1</td>\n",
              "      <td>0</td>\n",
              "      <td>0</td>\n",
              "      <td>0</td>\n",
              "      <td>0</td>\n",
              "      <td>0</td>\n",
              "      <td>0</td>\n",
              "      <td>0</td>\n",
              "      <td>0</td>\n",
              "      <td>0</td>\n",
              "      <td>0</td>\n",
              "      <td>0</td>\n",
              "      <td>0</td>\n",
              "      <td>0</td>\n",
              "      <td>0</td>\n",
              "      <td>0</td>\n",
              "      <td>0</td>\n",
              "      <td>0</td>\n",
              "      <td>0</td>\n",
              "      <td>0</td>\n",
              "      <td>0</td>\n",
              "      <td>0</td>\n",
              "      <td>0</td>\n",
              "      <td>0</td>\n",
              "      <td>0</td>\n",
              "      <td>0</td>\n",
              "      <td>0</td>\n",
              "      <td>0</td>\n",
              "    </tr>\n",
              "    <tr>\n",
              "      <th>2</th>\n",
              "      <td>353.15</td>\n",
              "      <td>223.30</td>\n",
              "      <td>1</td>\n",
              "      <td>3</td>\n",
              "      <td>0</td>\n",
              "      <td>0</td>\n",
              "      <td>0</td>\n",
              "      <td>0</td>\n",
              "      <td>0</td>\n",
              "      <td>0</td>\n",
              "      <td>0</td>\n",
              "      <td>0</td>\n",
              "      <td>0</td>\n",
              "      <td>1</td>\n",
              "      <td>0</td>\n",
              "      <td>0</td>\n",
              "      <td>0</td>\n",
              "      <td>0</td>\n",
              "      <td>0</td>\n",
              "      <td>0</td>\n",
              "      <td>0</td>\n",
              "      <td>0</td>\n",
              "      <td>0</td>\n",
              "      <td>0</td>\n",
              "      <td>0</td>\n",
              "      <td>1</td>\n",
              "      <td>0</td>\n",
              "      <td>0</td>\n",
              "      <td>0</td>\n",
              "      <td>0</td>\n",
              "      <td>0</td>\n",
              "      <td>0</td>\n",
              "      <td>0</td>\n",
              "      <td>0</td>\n",
              "      <td>0</td>\n",
              "      <td>0</td>\n",
              "      <td>0</td>\n",
              "      <td>0</td>\n",
              "      <td>0</td>\n",
              "      <td>0</td>\n",
              "      <td>0</td>\n",
              "      <td>0</td>\n",
              "      <td>0</td>\n",
              "      <td>0</td>\n",
              "      <td>0</td>\n",
              "      <td>0</td>\n",
              "      <td>0</td>\n",
              "      <td>0</td>\n",
              "      <td>0</td>\n",
              "      <td>0</td>\n",
              "      <td>0</td>\n",
              "      <td>0</td>\n",
              "      <td>0</td>\n",
              "    </tr>\n",
              "    <tr>\n",
              "      <th>3</th>\n",
              "      <td>373.15</td>\n",
              "      <td>198.00</td>\n",
              "      <td>1</td>\n",
              "      <td>3</td>\n",
              "      <td>0</td>\n",
              "      <td>0</td>\n",
              "      <td>0</td>\n",
              "      <td>0</td>\n",
              "      <td>0</td>\n",
              "      <td>0</td>\n",
              "      <td>0</td>\n",
              "      <td>0</td>\n",
              "      <td>0</td>\n",
              "      <td>1</td>\n",
              "      <td>0</td>\n",
              "      <td>0</td>\n",
              "      <td>0</td>\n",
              "      <td>0</td>\n",
              "      <td>0</td>\n",
              "      <td>0</td>\n",
              "      <td>0</td>\n",
              "      <td>0</td>\n",
              "      <td>0</td>\n",
              "      <td>0</td>\n",
              "      <td>0</td>\n",
              "      <td>1</td>\n",
              "      <td>0</td>\n",
              "      <td>0</td>\n",
              "      <td>0</td>\n",
              "      <td>0</td>\n",
              "      <td>0</td>\n",
              "      <td>0</td>\n",
              "      <td>0</td>\n",
              "      <td>0</td>\n",
              "      <td>0</td>\n",
              "      <td>0</td>\n",
              "      <td>0</td>\n",
              "      <td>0</td>\n",
              "      <td>0</td>\n",
              "      <td>0</td>\n",
              "      <td>0</td>\n",
              "      <td>0</td>\n",
              "      <td>0</td>\n",
              "      <td>0</td>\n",
              "      <td>0</td>\n",
              "      <td>0</td>\n",
              "      <td>0</td>\n",
              "      <td>0</td>\n",
              "      <td>0</td>\n",
              "      <td>0</td>\n",
              "      <td>0</td>\n",
              "      <td>0</td>\n",
              "      <td>0</td>\n",
              "    </tr>\n",
              "    <tr>\n",
              "      <th>4</th>\n",
              "      <td>343.15</td>\n",
              "      <td>188.50</td>\n",
              "      <td>1</td>\n",
              "      <td>3</td>\n",
              "      <td>0</td>\n",
              "      <td>0</td>\n",
              "      <td>0</td>\n",
              "      <td>0</td>\n",
              "      <td>0</td>\n",
              "      <td>0</td>\n",
              "      <td>0</td>\n",
              "      <td>0</td>\n",
              "      <td>0</td>\n",
              "      <td>1</td>\n",
              "      <td>0</td>\n",
              "      <td>0</td>\n",
              "      <td>0</td>\n",
              "      <td>0</td>\n",
              "      <td>0</td>\n",
              "      <td>0</td>\n",
              "      <td>0</td>\n",
              "      <td>0</td>\n",
              "      <td>0</td>\n",
              "      <td>0</td>\n",
              "      <td>0</td>\n",
              "      <td>1</td>\n",
              "      <td>0</td>\n",
              "      <td>0</td>\n",
              "      <td>0</td>\n",
              "      <td>0</td>\n",
              "      <td>0</td>\n",
              "      <td>0</td>\n",
              "      <td>0</td>\n",
              "      <td>0</td>\n",
              "      <td>0</td>\n",
              "      <td>0</td>\n",
              "      <td>0</td>\n",
              "      <td>0</td>\n",
              "      <td>0</td>\n",
              "      <td>0</td>\n",
              "      <td>0</td>\n",
              "      <td>0</td>\n",
              "      <td>0</td>\n",
              "      <td>0</td>\n",
              "      <td>0</td>\n",
              "      <td>0</td>\n",
              "      <td>0</td>\n",
              "      <td>0</td>\n",
              "      <td>0</td>\n",
              "      <td>0</td>\n",
              "      <td>0</td>\n",
              "      <td>0</td>\n",
              "      <td>0</td>\n",
              "    </tr>\n",
              "    <tr>\n",
              "      <th>...</th>\n",
              "      <td>...</td>\n",
              "      <td>...</td>\n",
              "      <td>...</td>\n",
              "      <td>...</td>\n",
              "      <td>...</td>\n",
              "      <td>...</td>\n",
              "      <td>...</td>\n",
              "      <td>...</td>\n",
              "      <td>...</td>\n",
              "      <td>...</td>\n",
              "      <td>...</td>\n",
              "      <td>...</td>\n",
              "      <td>...</td>\n",
              "      <td>...</td>\n",
              "      <td>...</td>\n",
              "      <td>...</td>\n",
              "      <td>...</td>\n",
              "      <td>...</td>\n",
              "      <td>...</td>\n",
              "      <td>...</td>\n",
              "      <td>...</td>\n",
              "      <td>...</td>\n",
              "      <td>...</td>\n",
              "      <td>...</td>\n",
              "      <td>...</td>\n",
              "      <td>...</td>\n",
              "      <td>...</td>\n",
              "      <td>...</td>\n",
              "      <td>...</td>\n",
              "      <td>...</td>\n",
              "      <td>...</td>\n",
              "      <td>...</td>\n",
              "      <td>...</td>\n",
              "      <td>...</td>\n",
              "      <td>...</td>\n",
              "      <td>...</td>\n",
              "      <td>...</td>\n",
              "      <td>...</td>\n",
              "      <td>...</td>\n",
              "      <td>...</td>\n",
              "      <td>...</td>\n",
              "      <td>...</td>\n",
              "      <td>...</td>\n",
              "      <td>...</td>\n",
              "      <td>...</td>\n",
              "      <td>...</td>\n",
              "      <td>...</td>\n",
              "      <td>...</td>\n",
              "      <td>...</td>\n",
              "      <td>...</td>\n",
              "      <td>...</td>\n",
              "      <td>...</td>\n",
              "      <td>...</td>\n",
              "    </tr>\n",
              "    <tr>\n",
              "      <th>10111</th>\n",
              "      <td>298.15</td>\n",
              "      <td>35.86</td>\n",
              "      <td>1</td>\n",
              "      <td>5</td>\n",
              "      <td>0</td>\n",
              "      <td>0</td>\n",
              "      <td>0</td>\n",
              "      <td>0</td>\n",
              "      <td>0</td>\n",
              "      <td>0</td>\n",
              "      <td>0</td>\n",
              "      <td>0</td>\n",
              "      <td>0</td>\n",
              "      <td>1</td>\n",
              "      <td>0</td>\n",
              "      <td>0</td>\n",
              "      <td>0</td>\n",
              "      <td>0</td>\n",
              "      <td>0</td>\n",
              "      <td>0</td>\n",
              "      <td>0</td>\n",
              "      <td>0</td>\n",
              "      <td>0</td>\n",
              "      <td>0</td>\n",
              "      <td>0</td>\n",
              "      <td>0</td>\n",
              "      <td>0</td>\n",
              "      <td>0</td>\n",
              "      <td>0</td>\n",
              "      <td>0</td>\n",
              "      <td>0</td>\n",
              "      <td>0</td>\n",
              "      <td>0</td>\n",
              "      <td>0</td>\n",
              "      <td>0</td>\n",
              "      <td>1</td>\n",
              "      <td>0</td>\n",
              "      <td>0</td>\n",
              "      <td>0</td>\n",
              "      <td>0</td>\n",
              "      <td>0</td>\n",
              "      <td>0</td>\n",
              "      <td>0</td>\n",
              "      <td>0</td>\n",
              "      <td>0</td>\n",
              "      <td>0</td>\n",
              "      <td>0</td>\n",
              "      <td>0</td>\n",
              "      <td>0</td>\n",
              "      <td>0</td>\n",
              "      <td>0</td>\n",
              "      <td>0</td>\n",
              "      <td>0</td>\n",
              "    </tr>\n",
              "    <tr>\n",
              "      <th>10112</th>\n",
              "      <td>343.15</td>\n",
              "      <td>27.54</td>\n",
              "      <td>1</td>\n",
              "      <td>5</td>\n",
              "      <td>0</td>\n",
              "      <td>0</td>\n",
              "      <td>0</td>\n",
              "      <td>0</td>\n",
              "      <td>0</td>\n",
              "      <td>0</td>\n",
              "      <td>0</td>\n",
              "      <td>0</td>\n",
              "      <td>0</td>\n",
              "      <td>1</td>\n",
              "      <td>0</td>\n",
              "      <td>0</td>\n",
              "      <td>0</td>\n",
              "      <td>0</td>\n",
              "      <td>0</td>\n",
              "      <td>0</td>\n",
              "      <td>0</td>\n",
              "      <td>0</td>\n",
              "      <td>0</td>\n",
              "      <td>0</td>\n",
              "      <td>0</td>\n",
              "      <td>0</td>\n",
              "      <td>0</td>\n",
              "      <td>0</td>\n",
              "      <td>0</td>\n",
              "      <td>0</td>\n",
              "      <td>0</td>\n",
              "      <td>0</td>\n",
              "      <td>0</td>\n",
              "      <td>0</td>\n",
              "      <td>0</td>\n",
              "      <td>1</td>\n",
              "      <td>0</td>\n",
              "      <td>0</td>\n",
              "      <td>0</td>\n",
              "      <td>0</td>\n",
              "      <td>0</td>\n",
              "      <td>0</td>\n",
              "      <td>0</td>\n",
              "      <td>0</td>\n",
              "      <td>0</td>\n",
              "      <td>0</td>\n",
              "      <td>0</td>\n",
              "      <td>0</td>\n",
              "      <td>0</td>\n",
              "      <td>0</td>\n",
              "      <td>0</td>\n",
              "      <td>0</td>\n",
              "      <td>0</td>\n",
              "    </tr>\n",
              "    <tr>\n",
              "      <th>10113</th>\n",
              "      <td>298.15</td>\n",
              "      <td>20.15</td>\n",
              "      <td>1</td>\n",
              "      <td>5</td>\n",
              "      <td>0</td>\n",
              "      <td>0</td>\n",
              "      <td>0</td>\n",
              "      <td>0</td>\n",
              "      <td>0</td>\n",
              "      <td>0</td>\n",
              "      <td>0</td>\n",
              "      <td>0</td>\n",
              "      <td>0</td>\n",
              "      <td>1</td>\n",
              "      <td>0</td>\n",
              "      <td>0</td>\n",
              "      <td>0</td>\n",
              "      <td>0</td>\n",
              "      <td>0</td>\n",
              "      <td>0</td>\n",
              "      <td>0</td>\n",
              "      <td>0</td>\n",
              "      <td>0</td>\n",
              "      <td>0</td>\n",
              "      <td>0</td>\n",
              "      <td>0</td>\n",
              "      <td>0</td>\n",
              "      <td>0</td>\n",
              "      <td>0</td>\n",
              "      <td>0</td>\n",
              "      <td>0</td>\n",
              "      <td>0</td>\n",
              "      <td>0</td>\n",
              "      <td>0</td>\n",
              "      <td>0</td>\n",
              "      <td>1</td>\n",
              "      <td>0</td>\n",
              "      <td>0</td>\n",
              "      <td>0</td>\n",
              "      <td>0</td>\n",
              "      <td>0</td>\n",
              "      <td>0</td>\n",
              "      <td>0</td>\n",
              "      <td>0</td>\n",
              "      <td>0</td>\n",
              "      <td>0</td>\n",
              "      <td>0</td>\n",
              "      <td>0</td>\n",
              "      <td>0</td>\n",
              "      <td>0</td>\n",
              "      <td>0</td>\n",
              "      <td>0</td>\n",
              "      <td>0</td>\n",
              "    </tr>\n",
              "    <tr>\n",
              "      <th>10114</th>\n",
              "      <td>343.15</td>\n",
              "      <td>17.93</td>\n",
              "      <td>1</td>\n",
              "      <td>5</td>\n",
              "      <td>0</td>\n",
              "      <td>0</td>\n",
              "      <td>0</td>\n",
              "      <td>0</td>\n",
              "      <td>0</td>\n",
              "      <td>0</td>\n",
              "      <td>0</td>\n",
              "      <td>0</td>\n",
              "      <td>0</td>\n",
              "      <td>1</td>\n",
              "      <td>0</td>\n",
              "      <td>0</td>\n",
              "      <td>0</td>\n",
              "      <td>0</td>\n",
              "      <td>0</td>\n",
              "      <td>0</td>\n",
              "      <td>0</td>\n",
              "      <td>0</td>\n",
              "      <td>0</td>\n",
              "      <td>0</td>\n",
              "      <td>0</td>\n",
              "      <td>0</td>\n",
              "      <td>0</td>\n",
              "      <td>0</td>\n",
              "      <td>0</td>\n",
              "      <td>0</td>\n",
              "      <td>0</td>\n",
              "      <td>0</td>\n",
              "      <td>0</td>\n",
              "      <td>0</td>\n",
              "      <td>0</td>\n",
              "      <td>1</td>\n",
              "      <td>0</td>\n",
              "      <td>0</td>\n",
              "      <td>0</td>\n",
              "      <td>0</td>\n",
              "      <td>0</td>\n",
              "      <td>0</td>\n",
              "      <td>0</td>\n",
              "      <td>0</td>\n",
              "      <td>0</td>\n",
              "      <td>0</td>\n",
              "      <td>0</td>\n",
              "      <td>0</td>\n",
              "      <td>0</td>\n",
              "      <td>0</td>\n",
              "      <td>0</td>\n",
              "      <td>0</td>\n",
              "      <td>0</td>\n",
              "    </tr>\n",
              "    <tr>\n",
              "      <th>10115</th>\n",
              "      <td>323.15</td>\n",
              "      <td>8.00</td>\n",
              "      <td>1</td>\n",
              "      <td>5</td>\n",
              "      <td>0</td>\n",
              "      <td>0</td>\n",
              "      <td>0</td>\n",
              "      <td>0</td>\n",
              "      <td>0</td>\n",
              "      <td>0</td>\n",
              "      <td>0</td>\n",
              "      <td>0</td>\n",
              "      <td>0</td>\n",
              "      <td>1</td>\n",
              "      <td>0</td>\n",
              "      <td>0</td>\n",
              "      <td>0</td>\n",
              "      <td>0</td>\n",
              "      <td>0</td>\n",
              "      <td>0</td>\n",
              "      <td>0</td>\n",
              "      <td>0</td>\n",
              "      <td>0</td>\n",
              "      <td>0</td>\n",
              "      <td>0</td>\n",
              "      <td>0</td>\n",
              "      <td>0</td>\n",
              "      <td>0</td>\n",
              "      <td>0</td>\n",
              "      <td>0</td>\n",
              "      <td>0</td>\n",
              "      <td>0</td>\n",
              "      <td>0</td>\n",
              "      <td>0</td>\n",
              "      <td>0</td>\n",
              "      <td>1</td>\n",
              "      <td>0</td>\n",
              "      <td>0</td>\n",
              "      <td>0</td>\n",
              "      <td>0</td>\n",
              "      <td>0</td>\n",
              "      <td>0</td>\n",
              "      <td>0</td>\n",
              "      <td>0</td>\n",
              "      <td>0</td>\n",
              "      <td>0</td>\n",
              "      <td>0</td>\n",
              "      <td>0</td>\n",
              "      <td>0</td>\n",
              "      <td>0</td>\n",
              "      <td>0</td>\n",
              "      <td>0</td>\n",
              "      <td>0</td>\n",
              "    </tr>\n",
              "  </tbody>\n",
              "</table>\n",
              "<p>10116 rows × 53 columns</p>\n",
              "</div>"
            ],
            "text/plain": [
              "        T (K)  P (bar)  G1  G2  G3  G4  G5  ...  G45  G46  G47  G48  G49  G50  G51\n",
              "0      363.15   246.00   1   3   0   0   0  ...    0    0    0    0    0    0    0\n",
              "1      383.15   235.00   1   3   0   0   0  ...    0    0    0    0    0    0    0\n",
              "2      353.15   223.30   1   3   0   0   0  ...    0    0    0    0    0    0    0\n",
              "3      373.15   198.00   1   3   0   0   0  ...    0    0    0    0    0    0    0\n",
              "4      343.15   188.50   1   3   0   0   0  ...    0    0    0    0    0    0    0\n",
              "...       ...      ...  ..  ..  ..  ..  ..  ...  ...  ...  ...  ...  ...  ...  ...\n",
              "10111  298.15    35.86   1   5   0   0   0  ...    0    0    0    0    0    0    0\n",
              "10112  343.15    27.54   1   5   0   0   0  ...    0    0    0    0    0    0    0\n",
              "10113  298.15    20.15   1   5   0   0   0  ...    0    0    0    0    0    0    0\n",
              "10114  343.15    17.93   1   5   0   0   0  ...    0    0    0    0    0    0    0\n",
              "10115  323.15     8.00   1   5   0   0   0  ...    0    0    0    0    0    0    0\n",
              "\n",
              "[10116 rows x 53 columns]"
            ]
          },
          "metadata": {
            "tags": []
          },
          "execution_count": 14
        }
      ]
    },
    {
      "cell_type": "code",
      "metadata": {
        "id": "a9jIeazA5jX9",
        "colab_type": "code",
        "colab": {
          "base_uri": "https://localhost:8080/",
          "height": 404
        },
        "outputId": "ca27f9f7-f232-4e43-9ab9-0f2f98f19318"
      },
      "source": [
        "y"
      ],
      "execution_count": 15,
      "outputs": [
        {
          "output_type": "execute_result",
          "data": {
            "text/html": [
              "<div>\n",
              "<style scoped>\n",
              "    .dataframe tbody tr th:only-of-type {\n",
              "        vertical-align: middle;\n",
              "    }\n",
              "\n",
              "    .dataframe tbody tr th {\n",
              "        vertical-align: top;\n",
              "    }\n",
              "\n",
              "    .dataframe thead th {\n",
              "        text-align: right;\n",
              "    }\n",
              "</style>\n",
              "<table border=\"1\" class=\"dataframe\">\n",
              "  <thead>\n",
              "    <tr style=\"text-align: right;\">\n",
              "      <th></th>\n",
              "      <th>x_CO2</th>\n",
              "    </tr>\n",
              "  </thead>\n",
              "  <tbody>\n",
              "    <tr>\n",
              "      <th>0</th>\n",
              "      <td>0.610</td>\n",
              "    </tr>\n",
              "    <tr>\n",
              "      <th>1</th>\n",
              "      <td>0.500</td>\n",
              "    </tr>\n",
              "    <tr>\n",
              "      <th>2</th>\n",
              "      <td>0.610</td>\n",
              "    </tr>\n",
              "    <tr>\n",
              "      <th>3</th>\n",
              "      <td>0.500</td>\n",
              "    </tr>\n",
              "    <tr>\n",
              "      <th>4</th>\n",
              "      <td>0.610</td>\n",
              "    </tr>\n",
              "    <tr>\n",
              "      <th>...</th>\n",
              "      <td>...</td>\n",
              "    </tr>\n",
              "    <tr>\n",
              "      <th>10111</th>\n",
              "      <td>0.592</td>\n",
              "    </tr>\n",
              "    <tr>\n",
              "      <th>10112</th>\n",
              "      <td>0.239</td>\n",
              "    </tr>\n",
              "    <tr>\n",
              "      <th>10113</th>\n",
              "      <td>0.396</td>\n",
              "    </tr>\n",
              "    <tr>\n",
              "      <th>10114</th>\n",
              "      <td>0.140</td>\n",
              "    </tr>\n",
              "    <tr>\n",
              "      <th>10115</th>\n",
              "      <td>0.139</td>\n",
              "    </tr>\n",
              "  </tbody>\n",
              "</table>\n",
              "<p>10116 rows × 1 columns</p>\n",
              "</div>"
            ],
            "text/plain": [
              "       x_CO2\n",
              "0      0.610\n",
              "1      0.500\n",
              "2      0.610\n",
              "3      0.500\n",
              "4      0.610\n",
              "...      ...\n",
              "10111  0.592\n",
              "10112  0.239\n",
              "10113  0.396\n",
              "10114  0.140\n",
              "10115  0.139\n",
              "\n",
              "[10116 rows x 1 columns]"
            ]
          },
          "metadata": {
            "tags": []
          },
          "execution_count": 15
        }
      ]
    },
    {
      "cell_type": "markdown",
      "metadata": {
        "id": "yBTaZ_ydJgvM",
        "colab_type": "text"
      },
      "source": [
        "Train and test split on data"
      ]
    },
    {
      "cell_type": "code",
      "metadata": {
        "id": "AolSu-xR5k3J",
        "colab_type": "code",
        "colab": {}
      },
      "source": [
        "from sklearn.model_selection import train_test_split\n",
        "\n",
        "X1_train, X1_test, y1_train, y1_test = train_test_split(X, y, test_size=0.2, random_state=0)"
      ],
      "execution_count": 16,
      "outputs": []
    },
    {
      "cell_type": "markdown",
      "metadata": {
        "id": "jh-UC-5nJkrx",
        "colab_type": "text"
      },
      "source": [
        "Scale data based on the X values"
      ]
    },
    {
      "cell_type": "code",
      "metadata": {
        "id": "nb35uRAl5rc8",
        "colab_type": "code",
        "colab": {}
      },
      "source": [
        "# Feature Scaling\n",
        "from sklearn.preprocessing import StandardScaler\n",
        "\n",
        "sc = StandardScaler()\n",
        "X1_train = sc.fit_transform(X1_train)\n",
        "X1_test = sc.transform(X1_test)"
      ],
      "execution_count": 17,
      "outputs": []
    },
    {
      "cell_type": "markdown",
      "metadata": {
        "id": "RKvD3fMyJpCE",
        "colab_type": "text"
      },
      "source": [
        "Create the random forest regression model. I used a large number of trees because of the size of the data, I wanted to make sure all data was factored in."
      ]
    },
    {
      "cell_type": "code",
      "metadata": {
        "id": "OpPk5AVx5vKe",
        "colab_type": "code",
        "colab": {}
      },
      "source": [
        "from sklearn.ensemble import RandomForestRegressor\n",
        "\n",
        "regressor = RandomForestRegressor(n_estimators=10000, random_state=0)\n",
        "regressor.fit(X1_train, y1_train)\n",
        "y1_pred = regressor.predict(X1_test)"
      ],
      "execution_count": 18,
      "outputs": []
    },
    {
      "cell_type": "markdown",
      "metadata": {
        "id": "Q6UnuzR6KJmb",
        "colab_type": "text"
      },
      "source": [
        "Evaluation metrics for Random Forest"
      ]
    },
    {
      "cell_type": "code",
      "metadata": {
        "id": "x8H9egIn6G5i",
        "colab_type": "code",
        "colab": {
          "base_uri": "https://localhost:8080/",
          "height": 84
        },
        "outputId": "745d0b79-d9c7-44ee-e5ad-d618e6626508"
      },
      "source": [
        "from sklearn import metrics\n",
        "from sklearn.metrics import r2_score\n",
        "\n",
        "print('Mean Absolute Error:', metrics.mean_absolute_error(y1_test, y1_pred))\n",
        "print('Mean Squared Error:', metrics.mean_squared_error(y1_test, y1_pred))\n",
        "print('Root Mean Squared Error:', np.sqrt(metrics.mean_squared_error(y1_test, y1_pred)))\n",
        "print(\"R2-score: %.2f\" % r2_score(y1_test , y1_pred) )"
      ],
      "execution_count": 19,
      "outputs": [
        {
          "output_type": "stream",
          "text": [
            "Mean Absolute Error: 0.02097472231731376\n",
            "Mean Squared Error: 0.0010989280790708888\n",
            "Root Mean Squared Error: 0.033150084148775384\n",
            "R2-score: 0.98\n"
          ],
          "name": "stdout"
        }
      ]
    },
    {
      "cell_type": "markdown",
      "metadata": {
        "id": "51uHPa0NmgDu",
        "colab_type": "text"
      },
      "source": [
        "Create a parity figure"
      ]
    },
    {
      "cell_type": "code",
      "metadata": {
        "id": "qMhIH2WekEVi",
        "colab_type": "code",
        "colab": {
          "base_uri": "https://localhost:8080/",
          "height": 279
        },
        "outputId": "67e98b02-9755-4d1c-8cfb-0997eef446f7"
      },
      "source": [
        "fig, ax = plt.subplots()\n",
        "ax.scatter(y1_test,y1_pred, edgecolors=(0, 0, 1))\n",
        "ax.plot([y1_pred.min(), y1_pred.max()], [y1_pred.min(), y1_pred.max()], 'r--', lw=3)\n",
        "ax.set_xlabel('Predicted')\n",
        "ax.set_ylabel('Actual')\n",
        "plt.show()"
      ],
      "execution_count": 20,
      "outputs": [
        {
          "output_type": "display_data",
          "data": {
            "image/png": "[encoded data removed]",
            "text/plain": [
              "<Figure size 432x288 with 1 Axes>"
            ]
          },
          "metadata": {
            "tags": [],
            "needs_background": "light"
          }
        }
      ]
    },
    {
      "cell_type": "markdown",
      "metadata": {
        "id": "4eyMQJlboABy",
        "colab_type": "text"
      },
      "source": [
        "Determine which features are most important for solubility"
      ]
    },
    {
      "cell_type": "code",
      "metadata": {
        "id": "0fl4SaLqlIhV",
        "colab_type": "code",
        "colab": {
          "base_uri": "https://localhost:8080/",
          "height": 1000
        },
        "outputId": "e6d87730-8e02-48b1-dcf9-0bda2133f946"
      },
      "source": [
        "# get importance\n",
        "importance = regressor.feature_importances_\n",
        "# summarize feature importance\n",
        "for i,v in enumerate(importance):\n",
        "\tprint('Feature: %0d, Score: %.5f' % (i,v))\n",
        "# plot feature importance\n",
        "pyplot.bar([x for x in range(len(importance))], importance)\n",
        "pyplot.show()"
      ],
      "execution_count": 36,
      "outputs": [
        {
          "output_type": "stream",
          "text": [
            "Feature: 0, Score: 0.09199\n",
            "Feature: 1, Score: 0.74909\n",
            "Feature: 2, Score: 0.00625\n",
            "Feature: 3, Score: 0.03108\n",
            "Feature: 4, Score: 0.00000\n",
            "Feature: 5, Score: 0.00010\n",
            "Feature: 6, Score: 0.00007\n",
            "Feature: 7, Score: 0.00016\n",
            "Feature: 8, Score: 0.00013\n",
            "Feature: 9, Score: 0.00530\n",
            "Feature: 10, Score: 0.00001\n",
            "Feature: 11, Score: 0.00000\n",
            "Feature: 12, Score: 0.00004\n",
            "Feature: 13, Score: 0.00192\n",
            "Feature: 14, Score: 0.00002\n",
            "Feature: 15, Score: 0.00006\n",
            "Feature: 16, Score: 0.00001\n",
            "Feature: 17, Score: 0.00121\n",
            "Feature: 18, Score: 0.00000\n",
            "Feature: 19, Score: 0.00075\n",
            "Feature: 20, Score: 0.00015\n",
            "Feature: 21, Score: 0.00634\n",
            "Feature: 22, Score: 0.00027\n",
            "Feature: 23, Score: 0.00115\n",
            "Feature: 24, Score: 0.00000\n",
            "Feature: 25, Score: 0.00153\n",
            "Feature: 26, Score: 0.00423\n",
            "Feature: 27, Score: 0.00053\n",
            "Feature: 28, Score: 0.00097\n",
            "Feature: 29, Score: 0.00078\n",
            "Feature: 30, Score: 0.00489\n",
            "Feature: 31, Score: 0.00075\n",
            "Feature: 32, Score: 0.00162\n",
            "Feature: 33, Score: 0.00016\n",
            "Feature: 34, Score: 0.00011\n",
            "Feature: 35, Score: 0.07284\n",
            "Feature: 36, Score: 0.00020\n",
            "Feature: 37, Score: 0.00060\n",
            "Feature: 38, Score: 0.00058\n",
            "Feature: 39, Score: 0.00013\n",
            "Feature: 40, Score: 0.00104\n",
            "Feature: 41, Score: 0.00030\n",
            "Feature: 42, Score: 0.00045\n",
            "Feature: 43, Score: 0.00222\n",
            "Feature: 44, Score: 0.00248\n",
            "Feature: 45, Score: 0.00234\n",
            "Feature: 46, Score: 0.00370\n",
            "Feature: 47, Score: 0.00001\n",
            "Feature: 48, Score: 0.00018\n",
            "Feature: 49, Score: 0.00000\n",
            "Feature: 50, Score: 0.00013\n",
            "Feature: 51, Score: 0.00000\n",
            "Feature: 52, Score: 0.00112\n"
          ],
          "name": "stdout"
        },
        {
          "output_type": "display_data",
          "data": {
            "image/png": "[encoded data removed]",
            "text/plain": [
              "<Figure size 432x288 with 1 Axes>"
            ]
          },
          "metadata": {
            "tags": [],
            "needs_background": "light"
          }
        }
      ]
    },
    {
      "cell_type": "markdown",
      "metadata": {
        "id": "HVCHkaGNuUBJ",
        "colab_type": "text"
      },
      "source": [
        "Most important features are 1, 0, 35, and 3 which are P(bar), T(K), G33, and G2"
      ]
    },
    {
      "cell_type": "markdown",
      "metadata": {
        "id": "0x-UgLFLMp6H",
        "colab_type": "text"
      },
      "source": [
        "Attempt at SVM"
      ]
    },
    {
      "cell_type": "code",
      "metadata": {
        "id": "b5RwbBPpMsoi",
        "colab_type": "code",
        "colab": {}
      },
      "source": [
        "import numpy as np\n",
        "import pandas as pd\n",
        "from sklearn.model_selection import train_test_split\n",
        "from sklearn.svm import SVR\n",
        "from sklearn.metrics import r2_score,mean_squared_error\n",
        "import seaborn as sns\n",
        "import matplotlib.pyplot as plt"
      ],
      "execution_count": 21,
      "outputs": []
    },
    {
      "cell_type": "markdown",
      "metadata": {
        "id": "TdTewHYRKQn3",
        "colab_type": "text"
      },
      "source": [
        "Split train/test data"
      ]
    },
    {
      "cell_type": "code",
      "metadata": {
        "id": "7udcEjLTNF7n",
        "colab_type": "code",
        "colab": {}
      },
      "source": [
        "X2_train, X2_test, y2_train, y2_test = train_test_split(X, y, test_size=0.2, random_state=0)"
      ],
      "execution_count": 22,
      "outputs": []
    },
    {
      "cell_type": "markdown",
      "metadata": {
        "id": "b3nFBBvAKg9v",
        "colab_type": "text"
      },
      "source": [
        "Create the Support Vector Regression Model"
      ]
    },
    {
      "cell_type": "markdown",
      "metadata": {
        "id": "BAUchWmbmcnN",
        "colab_type": "text"
      },
      "source": [
        "Scale the model to the data\n"
      ]
    },
    {
      "cell_type": "code",
      "metadata": {
        "id": "Bnlkg36-kfqK",
        "colab_type": "code",
        "colab": {}
      },
      "source": [
        "# Feature Scaling\n",
        "from sklearn.preprocessing import StandardScaler\n",
        "\n",
        "sc = StandardScaler()\n",
        "X2_train = sc.fit_transform(X2_train)\n",
        "X2_test = sc.transform(X2_test)"
      ],
      "execution_count": 23,
      "outputs": []
    },
    {
      "cell_type": "code",
      "metadata": {
        "id": "MYcEFjyUNcLT",
        "colab_type": "code",
        "colab": {
          "base_uri": "https://localhost:8080/",
          "height": 50
        },
        "outputId": "8d17406b-36c6-4d0e-a402-bb5c1e38b156"
      },
      "source": [
        "SupportVectorRegModel = SVR()\n",
        "SupportVectorRegModel.fit(X2_train, y2_train)"
      ],
      "execution_count": 43,
      "outputs": [
        {
          "output_type": "execute_result",
          "data": {
            "text/plain": [
              "SVR(C=1.0, cache_size=200, coef0=0.0, degree=3, epsilon=0.1, gamma='scale',\n",
              "    kernel='rbf', max_iter=-1, shrinking=True, tol=0.001, verbose=False)"
            ]
          },
          "metadata": {
            "tags": []
          },
          "execution_count": 43
        }
      ]
    },
    {
      "cell_type": "code",
      "metadata": {
        "id": "q66_NgB9Nr6-",
        "colab_type": "code",
        "colab": {
          "base_uri": "https://localhost:8080/",
          "height": 50
        },
        "outputId": "c4ce1082-880f-411b-c72f-f6fe26307f25"
      },
      "source": [
        "y2_pred=SupportVectorRegModel.predict(X2_test)\n",
        "y2_pred"
      ],
      "execution_count": 44,
      "outputs": [
        {
          "output_type": "execute_result",
          "data": {
            "text/plain": [
              "array([0.63010458, 0.11557792, 0.31178239, ..., 0.76860819, 0.09359642,\n",
              "       0.67704249])"
            ]
          },
          "metadata": {
            "tags": []
          },
          "execution_count": 44
        }
      ]
    },
    {
      "cell_type": "markdown",
      "metadata": {
        "id": "4mhZ3JPGKxNR",
        "colab_type": "text"
      },
      "source": [
        "Evaluation Metrics for SVM\n"
      ]
    },
    {
      "cell_type": "code",
      "metadata": {
        "id": "Ycbgy-RkksW_",
        "colab_type": "code",
        "colab": {
          "base_uri": "https://localhost:8080/",
          "height": 84
        },
        "outputId": "02317c43-a131-4865-dfe4-6b617b50e95d"
      },
      "source": [
        "from sklearn import metrics\n",
        "from sklearn.metrics import r2_score\n",
        "\n",
        "print('Mean Absolute Error:', metrics.mean_absolute_error(y2_test, y2_pred))\n",
        "print('Mean Squared Error:', metrics.mean_squared_error(y2_test, y2_pred))\n",
        "print('Root Mean Squared Error:', np.sqrt(metrics.mean_squared_error(y2_test, y2_pred)))\n",
        "print(\"R2-score: %.2f\" % r2_score(y2_test , y2_pred) )"
      ],
      "execution_count": 45,
      "outputs": [
        {
          "output_type": "stream",
          "text": [
            "Mean Absolute Error: 0.0641814264111328\n",
            "Mean Squared Error: 0.006698218878894445\n",
            "Root Mean Squared Error: 0.08184264706676125\n",
            "R2-score: 0.88\n"
          ],
          "name": "stdout"
        }
      ]
    },
    {
      "cell_type": "markdown",
      "metadata": {
        "id": "Nv7yK7vVmZhi",
        "colab_type": "text"
      },
      "source": [
        "Create a parity figure"
      ]
    },
    {
      "cell_type": "code",
      "metadata": {
        "id": "0Snmh7Bok36U",
        "colab_type": "code",
        "colab": {
          "base_uri": "https://localhost:8080/",
          "height": 279
        },
        "outputId": "ddac19cc-589d-40f5-a4ff-ed9090dcb680"
      },
      "source": [
        "fig, ax = plt.subplots()\n",
        "ax.scatter(y2_test,y2_pred, edgecolors=(0, 0, 1))\n",
        "ax.plot([y2_pred.min(), y2_pred.max()], [y2_pred.min(), y2_pred.max()], 'r--', lw=3)\n",
        "ax.set_xlabel('Predicted')\n",
        "ax.set_ylabel('Actual')\n",
        "plt.show()"
      ],
      "execution_count": 27,
      "outputs": [
        {
          "output_type": "display_data",
          "data": {
            "image/png": "[encoded data removed]",
            "text/plain": [
              "<Figure size 432x288 with 1 Axes>"
            ]
          },
          "metadata": {
            "tags": [],
            "needs_background": "light"
          }
        }
      ]
    },
    {
      "cell_type": "code",
      "metadata": {
        "id": "chUjBOOPpcOd",
        "colab_type": "code",
        "colab": {
          "base_uri": "https://localhost:8080/",
          "height": 35
        },
        "outputId": "81877597-03df-4ac2-a68e-7c66ccc5b706"
      },
      "source": [
        "SupportVectorRegModel.kernel"
      ],
      "execution_count": 37,
      "outputs": [
        {
          "output_type": "execute_result",
          "data": {
            "application/vnd.google.colaboratory.intrinsic+json": {
              "type": "string"
            },
            "text/plain": [
              "'rbf'"
            ]
          },
          "metadata": {
            "tags": []
          },
          "execution_count": 37
        }
      ]
    },
    {
      "cell_type": "markdown",
      "metadata": {
        "id": "6ISM-Yd-q5GO",
        "colab_type": "text"
      },
      "source": [
        "Create SVM with linear kernel"
      ]
    },
    {
      "cell_type": "code",
      "metadata": {
        "id": "ozEwwmz1q2Az",
        "colab_type": "code",
        "colab": {
          "base_uri": "https://localhost:8080/",
          "height": 50
        },
        "outputId": "6b72ae32-177b-4537-c47b-128871e3bbf2"
      },
      "source": [
        "SupportVectorRegModel1 = SVR(kernel='linear')\n",
        "SupportVectorRegModel1.fit(X2_train, y2_train)"
      ],
      "execution_count": 46,
      "outputs": [
        {
          "output_type": "execute_result",
          "data": {
            "text/plain": [
              "SVR(C=1.0, cache_size=200, coef0=0.0, degree=3, epsilon=0.1, gamma='scale',\n",
              "    kernel='linear', max_iter=-1, shrinking=True, tol=0.001, verbose=False)"
            ]
          },
          "metadata": {
            "tags": []
          },
          "execution_count": 46
        }
      ]
    },
    {
      "cell_type": "code",
      "metadata": {
        "id": "wK-YuZUWrGvr",
        "colab_type": "code",
        "colab": {
          "base_uri": "https://localhost:8080/",
          "height": 50
        },
        "outputId": "4854bf0e-2675-4e35-9909-3864db68234c"
      },
      "source": [
        "y3_pred=SupportVectorRegModel1.predict(X2_test)\n",
        "y3_pred"
      ],
      "execution_count": 48,
      "outputs": [
        {
          "output_type": "execute_result",
          "data": {
            "text/plain": [
              "array([0.46497155, 0.10255198, 0.42678982, ..., 0.55589006, 0.23540018,\n",
              "       0.62067402])"
            ]
          },
          "metadata": {
            "tags": []
          },
          "execution_count": 48
        }
      ]
    },
    {
      "cell_type": "code",
      "metadata": {
        "id": "twppbUxVrMhK",
        "colab_type": "code",
        "colab": {
          "base_uri": "https://localhost:8080/",
          "height": 84
        },
        "outputId": "8507bb82-a861-4596-c97c-c4b9dc197472"
      },
      "source": [
        "from sklearn import metrics\n",
        "from sklearn.metrics import r2_score\n",
        "\n",
        "print('Mean Absolute Error:', metrics.mean_absolute_error(y2_test, y3_pred))\n",
        "print('Mean Squared Error:', metrics.mean_squared_error(y2_test, y3_pred))\n",
        "print('Root Mean Squared Error:', np.sqrt(metrics.mean_squared_error(y2_test, y3_pred)))\n",
        "print(\"R2-score: %.2f\" % r2_score(y2_test , y3_pred) )"
      ],
      "execution_count": 50,
      "outputs": [
        {
          "output_type": "stream",
          "text": [
            "Mean Absolute Error: 0.11499890065400403\n",
            "Mean Squared Error: 0.02153309350105607\n",
            "Root Mean Squared Error: 0.14674158749671504\n",
            "R2-score: 0.63\n"
          ],
          "name": "stdout"
        }
      ]
    },
    {
      "cell_type": "code",
      "metadata": {
        "id": "cFvA1V3IrX7y",
        "colab_type": "code",
        "colab": {
          "base_uri": "https://localhost:8080/",
          "height": 279
        },
        "outputId": "320fd870-b251-4630-d1d1-d25fc454f2cf"
      },
      "source": [
        "fig, ax = plt.subplots()\n",
        "ax.scatter(y2_test,y3_pred, edgecolors=(0, 0, 1))\n",
        "ax.plot([y3_pred.min(), y3_pred.max()], [y3_pred.min(), y3_pred.max()], 'r--', lw=3)\n",
        "ax.set_xlabel('Predicted')\n",
        "ax.set_ylabel('Actual')\n",
        "plt.show()"
      ],
      "execution_count": 51,
      "outputs": [
        {
          "output_type": "display_data",
          "data": {
            "image/png": "[encoded data removed]",
            "text/plain": [
              "<Figure size 432x288 with 1 Axes>"
            ]
          },
          "metadata": {
            "tags": [],
            "needs_background": "light"
          }
        }
      ]
    }
  ]
}